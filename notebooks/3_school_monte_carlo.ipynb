{
 "cells": [
  {
   "cell_type": "code",
   "execution_count": 28,
   "id": "525ada0c",
   "metadata": {},
   "outputs": [],
   "source": [
    "%load_ext autoreload\n",
    "%autoreload 2"
   ]
  },
  {
   "cell_type": "code",
   "execution_count": 29,
   "id": "85c852f8",
   "metadata": {},
   "outputs": [],
   "source": [
    "import numpy as np\n",
    "import sys\n",
    "sys.path.append('..')\n",
    "from capacity_management.src.da import DeferredAcceptance\n",
    "from capacity_management.src.mnl import MNL"
   ]
  },
  {
   "cell_type": "code",
   "execution_count": 18,
   "id": "11c5dce4",
   "metadata": {},
   "outputs": [],
   "source": [
    "n = 80 \n",
    "q = 22\n",
    "p = .1\n",
    "t = 1/1000"
   ]
  },
  {
   "cell_type": "code",
   "execution_count": 16,
   "id": "5396d7a5",
   "metadata": {},
   "outputs": [],
   "source": [
    "q1hat = 1/(1-p) * (q - np.sqrt(q*p*(1-p)*2*np.log(3/t)))"
   ]
  },
  {
   "cell_type": "code",
   "execution_count": 17,
   "id": "ba0becb0",
   "metadata": {},
   "outputs": [
    {
     "data": {
      "text/plain": [
       "18.188068381431158"
      ]
     },
     "execution_count": 17,
     "metadata": {},
     "output_type": "execute_result"
    }
   ],
   "source": [
    "q1hat"
   ]
  },
  {
   "cell_type": "code",
   "execution_count": 20,
   "id": "ce1f6ea3",
   "metadata": {},
   "outputs": [],
   "source": [
    "priorities = np.random.uniform(size=(n,3))"
   ]
  },
  {
   "cell_type": "code",
   "execution_count": 63,
   "id": "f567094f",
   "metadata": {},
   "outputs": [],
   "source": [
    "utilities = np.tile([6,5,4], (n,1))\n",
    "mnl = MNL(utilities, num_students=n)\n",
    "preferences = mnl.sample_preference_ordering()"
   ]
  },
  {
   "cell_type": "code",
   "execution_count": 72,
   "id": "07bff03a",
   "metadata": {},
   "outputs": [
    {
     "data": {
      "text/plain": [
       "{0: array([ 7, 42, 10, 32, 45, 72, 48,  1, 53, 46,  5, 34, 68, 24, 78, 73, 55,\n",
       "        23, 21, 33, 43,  6]),\n",
       " 1: array([57, 36,  4, 14, 77, 60, 31, 15,  0, 19, 66, 28, 52, 39, 11, 69, 76,\n",
       "        40, 18, 47,  3, 56]),\n",
       " 2: array([26, 74, 59, 16, 49, 41, 63, 38, 27, 50, 29, 79, 22, 70,  8, 62, 12,\n",
       "        17, 67,  2, 75, 44])}"
      ]
     },
     "execution_count": 72,
     "metadata": {},
     "output_type": "execute_result"
    }
   ],
   "source": [
    "da = DeferredAcceptance(preferences,priorities,np.array([22,22,22]))\n",
    "assignment = da.da()\n",
    "assignment"
   ]
  },
  {
   "cell_type": "code",
   "execution_count": 157,
   "id": "33faae6c",
   "metadata": {},
   "outputs": [],
   "source": [
    "def simulate_dropout(assignment):\n",
    "    after_dropout = {}\n",
    "    leaving_list = []\n",
    "    for school, students in assignment.items():\n",
    "        leaving = np.array(np.random.binomial(size=len(students), n=1, p=p), dtype=bool)\n",
    "        after_dropout[school] = students[~leaving]\n",
    "        leaving_list = np.append(leaving_list, students[leaving])\n",
    "    return after_dropout, leaving_list\n",
    "        "
   ]
  },
  {
   "cell_type": "code",
   "execution_count": 158,
   "id": "6398df07",
   "metadata": {},
   "outputs": [
    {
     "data": {
      "text/plain": [
       "{0: array([ 7, 32, 72, 48,  1, 53, 46, 68, 78, 73, 55, 23, 21, 43,  6]),\n",
       " 1: array([57, 36,  4, 14, 77, 31, 15,  0, 66, 28, 52, 39, 11, 69, 76, 40, 18,\n",
       "        47,  3, 56]),\n",
       " 2: array([26, 74, 59, 16, 49, 41, 63, 27, 29, 22, 70,  8, 62, 12, 17, 67,  2,\n",
       "        75, 44])}"
      ]
     },
     "execution_count": 158,
     "metadata": {},
     "output_type": "execute_result"
    }
   ],
   "source": [
    "after_dropout, leaving = simulate_dropout(assignment)\n",
    "after_dropout"
   ]
  },
  {
   "cell_type": "code",
   "execution_count": 159,
   "id": "3a2ee1ac",
   "metadata": {},
   "outputs": [
    {
     "data": {
      "text/plain": [
       "array([42., 10., 45.,  5., 34., 24., 33., 60., 19., 38., 50., 79.])"
      ]
     },
     "execution_count": 159,
     "metadata": {},
     "output_type": "execute_result"
    }
   ],
   "source": [
    "leaving"
   ]
  },
  {
   "cell_type": "code",
   "execution_count": 160,
   "id": "85c4859f",
   "metadata": {},
   "outputs": [],
   "source": [
    "def get_rank_of_school(students, school, preferences):\n",
    "    return np.argwhere(preferences[students,:]==school)[:,1]"
   ]
  },
  {
   "cell_type": "code",
   "execution_count": 161,
   "id": "5f580d42",
   "metadata": {},
   "outputs": [
    {
     "data": {
      "text/plain": [
       "array([[2, 1, 0]])"
      ]
     },
     "execution_count": 161,
     "metadata": {},
     "output_type": "execute_result"
    }
   ],
   "source": [
    "prefer_other_idx = np.argwhere(np.argwhere(preferences[after_dropout[0],:]==0)[:,1]-np.argwhere(preferences[after_dropout[0],:]==1)[:,1]>0).flatten()\n",
    "prefer_other = after_dropout[0][prefer_other_idx]\n",
    "preferences[prefer_other,:]"
   ]
  },
  {
   "cell_type": "code",
   "execution_count": null,
   "id": "5c7bcc78",
   "metadata": {},
   "outputs": [],
   "source": []
  },
  {
   "cell_type": "code",
   "execution_count": 162,
   "id": "546621c6",
   "metadata": {},
   "outputs": [],
   "source": [
    "def students_preferring_sch2_to_sch1(sch1_rank, sch2_rank, students):\n",
    "#     sch1_rank = get_rank_of_school(students, sch1, preferences)\n",
    "#     sch2_rank = get_rank_of_school(students, sch2, preferences)\n",
    "    idx_prefer_other = np.argwhere(sch1_rank - sch2_rank > 0).flatten()\n",
    "    return students[idx_prefer_other]"
   ]
  },
  {
   "cell_type": "code",
   "execution_count": 163,
   "id": "f6189429",
   "metadata": {},
   "outputs": [],
   "source": [
    "def identify_movers(after_dropout, preferences):\n",
    "    movers = {}\n",
    "    for sch1, students in after_dropout.items():\n",
    "        sch1_rank = get_rank_of_school(students, sch1, preferences)\n",
    "        movers[sch1] = {}\n",
    "        for sch2 in after_dropout.keys():\n",
    "            if sch2 == sch1:\n",
    "                continue\n",
    "\n",
    "            sch2_rank = get_rank_of_school(students, sch2, preferences)\n",
    "            movers[sch1][sch2] = students_preferring_sch2_to_sch1(sch1_rank, sch2_rank, students)\n",
    "    return movers"
   ]
  },
  {
   "cell_type": "code",
   "execution_count": 164,
   "id": "d6efca3e",
   "metadata": {},
   "outputs": [
    {
     "data": {
      "text/plain": [
       "{0: {1: array([1]), 2: array([1])},\n",
       " 1: {0: array([57, 36,  4, 77, 15,  0, 39, 18, 47]), 2: array([ 0, 18, 47])},\n",
       " 2: {0: array([26, 74, 59, 49, 41, 27, 22,  8, 67, 44]),\n",
       "  1: array([27, 22,  8, 44])}}"
      ]
     },
     "execution_count": 164,
     "metadata": {},
     "output_type": "execute_result"
    }
   ],
   "source": [
    "movers = identify_movers(after_dropout, preferences)\n",
    "movers"
   ]
  },
  {
   "cell_type": "code",
   "execution_count": 165,
   "id": "31073b1d",
   "metadata": {},
   "outputs": [],
   "source": [
    "def students_who_want_to_move_to_sch(movers):\n",
    "    schools = movers.keys()\n",
    "    want_to_move = {t: np.array([], dtype=int) for t in schools}\n",
    "    for sch1, m in movers.items():\n",
    "        for sch2, students in m.items():\n",
    "            want_to_move[sch2] = np.append(want_to_move[sch2], students)\n",
    "    return want_to_move"
   ]
  },
  {
   "cell_type": "code",
   "execution_count": 166,
   "id": "a41143d8",
   "metadata": {},
   "outputs": [
    {
     "data": {
      "text/plain": [
       "{0: array([57, 36,  4, 77, 15,  0, 39, 18, 47, 26, 74, 59, 49, 41, 27, 22,  8,\n",
       "        67, 44]),\n",
       " 1: array([ 1, 27, 22,  8, 44]),\n",
       " 2: array([ 1,  0, 18, 47])}"
      ]
     },
     "execution_count": 166,
     "metadata": {},
     "output_type": "execute_result"
    }
   ],
   "source": [
    "want_to_move = students_who_want_to_move_to_sch(movers)\n",
    "want_to_move"
   ]
  },
  {
   "cell_type": "code",
   "execution_count": 167,
   "id": "23ae8322",
   "metadata": {},
   "outputs": [],
   "source": [
    "def get_students_who_can_move(want_to_move, after_dropout, q, priorities):\n",
    "    can_move = {}\n",
    "    for sch in after_dropout.keys():\n",
    "        empty_seats = q-len(after_dropout[sch])\n",
    "        student_idx = np.argsort(priorities[want_to_move[sch],sch])[-empty_seats:]\n",
    "        can_move[sch] = want_to_move[sch][student_idx]\n",
    "    return can_move"
   ]
  },
  {
   "cell_type": "code",
   "execution_count": 168,
   "id": "7d1de1cd",
   "metadata": {},
   "outputs": [
    {
     "data": {
      "text/plain": [
       "{0: array([36, 74, 47, 18,  8, 67, 26]),\n",
       " 1: array([44,  1]),\n",
       " 2: array([ 1,  0, 18])}"
      ]
     },
     "execution_count": 168,
     "metadata": {},
     "output_type": "execute_result"
    }
   ],
   "source": [
    "can_move = get_students_who_can_move(want_to_move, after_dropout, q, priorities)\n",
    "can_move"
   ]
  },
  {
   "cell_type": "code",
   "execution_count": 169,
   "id": "f8f127a9",
   "metadata": {},
   "outputs": [
    {
     "data": {
      "text/plain": [
       "array([36, 74, 47, 18,  8, 67, 26, 44,  1,  1,  0, 18])"
      ]
     },
     "execution_count": 169,
     "metadata": {},
     "output_type": "execute_result"
    }
   ],
   "source": [
    "np.concatenate(list(can_move.values()))"
   ]
  },
  {
   "cell_type": "code",
   "execution_count": 170,
   "id": "a936e6ff",
   "metadata": {},
   "outputs": [],
   "source": [
    "def update_assignment_with_movers(after_dropout, can_move):\n",
    "    new_assignment = {}\n",
    "    movers = set(np.concatenate(list(can_move.values())))\n",
    "    for sch, students in after_dropout.items():\n",
    "        staying_students = np.array(list(set(students)-movers))\n",
    "        new_assignment[sch] = np.append(staying_students, can_move[sch])\n",
    "    return new_assignment\n",
    "        "
   ]
  },
  {
   "cell_type": "code",
   "execution_count": 171,
   "id": "9f62f363",
   "metadata": {},
   "outputs": [
    {
     "data": {
      "text/plain": [
       "{0: array([32, 68,  6,  7, 72, 73, 43, 46, 78, 48, 53, 21, 23, 55, 36, 74, 47,\n",
       "        18,  8, 67, 26]),\n",
       " 1: array([66,  3,  4, 69, 39, 40, 11, 76, 77, 14, 15, 52, 56, 57, 28, 31, 44,\n",
       "         1]),\n",
       " 2: array([ 2, 70, 41, 59, 75, 12, 16, 17, 49, 22, 27, 29, 62, 63,  1,  0, 18])}"
      ]
     },
     "execution_count": 171,
     "metadata": {},
     "output_type": "execute_result"
    }
   ],
   "source": [
    "update_assignment_with_movers(after_dropout, can_move)"
   ]
  },
  {
   "cell_type": "code",
   "execution_count": null,
   "id": "2e10ad14",
   "metadata": {},
   "outputs": [],
   "source": []
  },
  {
   "cell_type": "code",
   "execution_count": null,
   "id": "0dbef753",
   "metadata": {},
   "outputs": [],
   "source": []
  },
  {
   "cell_type": "code",
   "execution_count": null,
   "id": "bf722c68",
   "metadata": {},
   "outputs": [],
   "source": []
  },
  {
   "cell_type": "code",
   "execution_count": null,
   "id": "ca43089f",
   "metadata": {},
   "outputs": [],
   "source": []
  },
  {
   "cell_type": "code",
   "execution_count": 192,
   "id": "d6ed67e8",
   "metadata": {},
   "outputs": [
    {
     "data": {
      "text/plain": [
       "array([2])"
      ]
     },
     "execution_count": 192,
     "metadata": {},
     "output_type": "execute_result"
    }
   ],
   "source": [
    "np.full(1,2)"
   ]
  },
  {
   "cell_type": "code",
   "execution_count": 186,
   "id": "ad7e3db1",
   "metadata": {},
   "outputs": [
    {
     "data": {
      "text/plain": [
       "array([42, 10, 45,  5, 34, 24, 33, 60, 19, 38, 50, 79])"
      ]
     },
     "execution_count": 186,
     "metadata": {},
     "output_type": "execute_result"
    }
   ],
   "source": [
    "leaving = np.array(leaving, dtype=int)\n",
    "leaving"
   ]
  },
  {
   "cell_type": "code",
   "execution_count": 198,
   "id": "4a1843f5",
   "metadata": {},
   "outputs": [
    {
     "data": {
      "text/plain": [
       "array([[0, 2, 1, 3],\n",
       "       [2, 1, 0, 3],\n",
       "       [2, 0, 1, 3],\n",
       "       [1, 2, 0, 3],\n",
       "       [0, 1, 2, 3],\n",
       "       [3, 0, 2, 1],\n",
       "       [0, 1, 2, 3],\n",
       "       [0, 1, 2, 3],\n",
       "       [1, 0, 2, 3],\n",
       "       [1, 0, 2, 3],\n",
       "       [3, 2, 1, 0],\n",
       "       [1, 0, 2, 3],\n",
       "       [2, 0, 1, 3],\n",
       "       [1, 2, 0, 3],\n",
       "       [1, 2, 0, 3],\n",
       "       [0, 1, 2, 3],\n",
       "       [2, 0, 1, 3],\n",
       "       [2, 0, 1, 3],\n",
       "       [0, 2, 1, 3],\n",
       "       [3, 0, 2, 1],\n",
       "       [1, 0, 2, 3],\n",
       "       [0, 1, 2, 3],\n",
       "       [0, 1, 2, 3],\n",
       "       [0, 2, 1, 3],\n",
       "       [3, 1, 2, 0],\n",
       "       [2, 0, 1, 3],\n",
       "       [0, 2, 1, 3],\n",
       "       [0, 1, 2, 3],\n",
       "       [1, 0, 2, 3],\n",
       "       [2, 1, 0, 3],\n",
       "       [0, 1, 2, 3],\n",
       "       [1, 0, 2, 3],\n",
       "       [0, 1, 2, 3],\n",
       "       [3, 2, 1, 0],\n",
       "       [3, 1, 2, 0],\n",
       "       [0, 1, 2, 3],\n",
       "       [0, 1, 2, 3],\n",
       "       [1, 0, 2, 3],\n",
       "       [3, 2, 1, 0],\n",
       "       [0, 1, 2, 3],\n",
       "       [1, 0, 2, 3],\n",
       "       [0, 2, 1, 3],\n",
       "       [3, 1, 2, 0],\n",
       "       [0, 1, 2, 3],\n",
       "       [0, 1, 2, 3],\n",
       "       [3, 0, 2, 1],\n",
       "       [0, 1, 2, 3],\n",
       "       [0, 2, 1, 3],\n",
       "       [0, 1, 2, 3],\n",
       "       [0, 2, 1, 3],\n",
       "       [3, 2, 1, 0],\n",
       "       [0, 1, 2, 3],\n",
       "       [1, 0, 2, 3],\n",
       "       [0, 2, 1, 3],\n",
       "       [0, 2, 1, 3],\n",
       "       [0, 1, 2, 3],\n",
       "       [1, 0, 2, 3],\n",
       "       [0, 1, 2, 3],\n",
       "       [2, 1, 0, 3],\n",
       "       [0, 2, 1, 3],\n",
       "       [3, 1, 0, 2],\n",
       "       [2, 0, 1, 3],\n",
       "       [2, 0, 1, 3],\n",
       "       [2, 0, 1, 3],\n",
       "       [0, 1, 2, 3],\n",
       "       [1, 0, 2, 3],\n",
       "       [1, 0, 2, 3],\n",
       "       [0, 2, 1, 3],\n",
       "       [0, 1, 2, 3],\n",
       "       [1, 0, 2, 3],\n",
       "       [2, 0, 1, 3],\n",
       "       [0, 1, 2, 3],\n",
       "       [0, 2, 1, 3],\n",
       "       [0, 1, 2, 3],\n",
       "       [0, 2, 1, 3],\n",
       "       [2, 0, 1, 3],\n",
       "       [1, 0, 2, 3],\n",
       "       [0, 1, 2, 3],\n",
       "       [0, 1, 2, 3],\n",
       "       [3, 1, 2, 0]])"
      ]
     },
     "execution_count": 198,
     "metadata": {},
     "output_type": "execute_result"
    }
   ],
   "source": [
    "def generate_rnd2_preferences(preferences, leaving):\n",
    "    rnd2_preferences = np.append(preferences, np.full((n,1), 3, dtype=int),1)\n",
    "    rnd2_preferences[leaving,-1] = rnd2_preferences[leaving,0]\n",
    "    rnd2_preferences[leaving,0] = 3\n",
    "    return rnd2_preferences\n",
    "\n",
    "rnd2_preferences = generate_rnd2_preferences(preferences, leaving)\n",
    "rnd2_preferences"
   ]
  },
  {
   "cell_type": "code",
   "execution_count": 195,
   "id": "5498093f",
   "metadata": {},
   "outputs": [
    {
     "data": {
      "text/plain": [
       "array([[1.41020133e-01, 1.82989144e+00, 4.56794627e-01, 2.00000000e+00],\n",
       "       [1.88471943e+00, 5.98510451e-01, 1.41262087e-01, 2.00000000e+00],\n",
       "       [1.20010758e-02, 1.90847441e-01, 1.64674872e+00, 2.00000000e+00],\n",
       "       [3.82086767e-02, 1.63563107e+00, 8.55953899e-02, 2.00000000e+00],\n",
       "       [2.59955395e-02, 1.89709157e+00, 7.00177259e-01, 2.00000000e+00],\n",
       "       [8.59446791e-01, 6.20906081e-01, 5.35423855e-01, 2.00000000e+00],\n",
       "       [1.58556344e+00, 9.74921497e-01, 5.32338907e-01, 2.00000000e+00],\n",
       "       [1.97640364e+00, 3.06240393e-02, 3.42276954e-01, 2.00000000e+00],\n",
       "       [5.72221621e-01, 3.49784798e-01, 1.74728804e+00, 2.00000000e+00],\n",
       "       [3.97225828e-01, 3.88375472e-01, 4.03340046e-02, 2.00000000e+00],\n",
       "       [9.46167374e-01, 9.05682719e-01, 3.59090483e-01, 2.00000000e+00],\n",
       "       [4.99066134e-01, 1.73984067e+00, 3.01770471e-01, 2.00000000e+00],\n",
       "       [9.94327151e-01, 8.96855854e-01, 1.67050720e+00, 2.00000000e+00],\n",
       "       [2.25645872e-01, 4.36706078e-01, 4.11951810e-01, 2.00000000e+00],\n",
       "       [1.25702541e-02, 1.88678658e+00, 9.57636274e-01, 2.00000000e+00],\n",
       "       [1.17698875e-01, 1.86638968e+00, 2.21686082e-01, 2.00000000e+00],\n",
       "       [8.26388054e-01, 9.14220947e-01, 1.95609543e+00, 2.00000000e+00],\n",
       "       [4.18894008e-01, 2.86595368e-01, 1.66892571e+00, 2.00000000e+00],\n",
       "       [4.69648507e-01, 1.69013160e+00, 5.81004994e-01, 2.00000000e+00],\n",
       "       [1.81830913e-03, 8.18498317e-01, 9.75601136e-01, 2.00000000e+00],\n",
       "       [8.08913737e-02, 3.92982955e-01, 1.82128250e-01, 2.00000000e+00],\n",
       "       [1.63958078e+00, 5.11492525e-01, 5.16829224e-01, 2.00000000e+00],\n",
       "       [3.48758041e-01, 2.57674185e-01, 1.76018317e+00, 2.00000000e+00],\n",
       "       [1.67500094e+00, 5.35308809e-01, 2.98140404e-01, 2.00000000e+00],\n",
       "       [7.35797084e-01, 4.85664980e-01, 7.85840622e-01, 2.00000000e+00],\n",
       "       [2.69007492e-01, 6.16814485e-01, 2.12584433e-01, 2.00000000e+00],\n",
       "       [5.80014117e-01, 3.25373464e-01, 1.99761604e+00, 2.00000000e+00],\n",
       "       [2.25234502e-01, 2.59870665e-01, 1.90940771e+00, 2.00000000e+00],\n",
       "       [6.14706280e-01, 1.76915574e+00, 1.57416975e-01, 2.00000000e+00],\n",
       "       [4.79371876e-01, 2.09315465e-01, 1.86049687e+00, 2.00000000e+00],\n",
       "       [4.81060692e-02, 5.64523827e-01, 2.09850205e-03, 2.00000000e+00],\n",
       "       [6.22030899e-01, 1.87316730e+00, 6.46256641e-02, 2.00000000e+00],\n",
       "       [1.92325016e+00, 1.70316794e-01, 8.07996565e-01, 2.00000000e+00],\n",
       "       [5.96479404e-01, 3.39376035e-01, 9.45795002e-02, 2.00000000e+00],\n",
       "       [8.46952712e-01, 6.88909041e-02, 7.70646343e-01, 2.00000000e+00],\n",
       "       [1.48702757e-01, 3.76970563e-01, 4.27294720e-02, 2.00000000e+00],\n",
       "       [4.07187530e-01, 1.96737519e+00, 9.64063069e-01, 2.00000000e+00],\n",
       "       [1.48059266e-01, 2.36882432e-01, 5.44948629e-01, 2.00000000e+00],\n",
       "       [3.02406140e-01, 5.02645194e-01, 9.10457294e-01, 2.00000000e+00],\n",
       "       [1.26752467e-01, 1.74125406e+00, 1.75759397e-03, 2.00000000e+00],\n",
       "       [1.16702633e-01, 1.69888311e+00, 9.81707175e-01, 2.00000000e+00],\n",
       "       [1.11430807e-02, 6.57033976e-02, 1.91289777e+00, 2.00000000e+00],\n",
       "       [9.59362937e-01, 6.15474993e-01, 7.80528672e-01, 2.00000000e+00],\n",
       "       [1.59012920e+00, 9.35276793e-02, 1.15716603e-01, 2.00000000e+00],\n",
       "       [9.91647077e-02, 5.78668369e-01, 1.60652608e+00, 2.00000000e+00],\n",
       "       [9.13905471e-01, 1.73542183e-01, 5.30251854e-01, 2.00000000e+00],\n",
       "       [1.87506693e+00, 1.00039151e-01, 1.83677652e-01, 2.00000000e+00],\n",
       "       [4.34989554e-01, 1.64336282e+00, 1.95800065e-02, 2.00000000e+00],\n",
       "       [1.89890095e+00, 8.50861985e-02, 5.41317180e-01, 2.00000000e+00],\n",
       "       [8.77205061e-02, 4.17356772e-01, 1.93432819e+00, 2.00000000e+00],\n",
       "       [3.53922852e-01, 3.91059824e-01, 9.03922221e-01, 2.00000000e+00],\n",
       "       [2.34540311e-01, 4.87085077e-01, 1.86455837e-01, 2.00000000e+00],\n",
       "       [6.63523972e-01, 1.76654062e+00, 6.36721368e-02, 2.00000000e+00],\n",
       "       [1.88274997e+00, 7.59148387e-01, 8.26337098e-02, 2.00000000e+00],\n",
       "       [4.52007033e-01, 4.94089756e-01, 2.42492438e-01, 2.00000000e+00],\n",
       "       [1.71309326e+00, 3.27029075e-01, 5.28714606e-01, 2.00000000e+00],\n",
       "       [5.99789645e-01, 1.62657865e+00, 2.12907452e-01, 2.00000000e+00],\n",
       "       [8.57319747e-02, 1.97939642e+00, 5.81896295e-01, 2.00000000e+00],\n",
       "       [2.13241469e-01, 5.67320565e-03, 5.72601062e-01, 2.00000000e+00],\n",
       "       [1.43298555e-01, 3.67662841e-01, 1.98088720e+00, 2.00000000e+00],\n",
       "       [5.25325834e-01, 8.77753367e-01, 1.54940948e-01, 2.00000000e+00],\n",
       "       [5.41843598e-01, 2.49619917e-01, 3.67007190e-01, 2.00000000e+00],\n",
       "       [8.94364270e-01, 8.53029623e-01, 1.72135966e+00, 2.00000000e+00],\n",
       "       [8.38361846e-01, 6.73589862e-01, 1.91199922e+00, 2.00000000e+00],\n",
       "       [2.02068366e-01, 5.28477048e-01, 5.80592163e-01, 2.00000000e+00],\n",
       "       [2.48445616e-01, 3.13624016e-01, 1.74492829e-01, 2.00000000e+00],\n",
       "       [3.03380331e-01, 1.78660584e+00, 2.80824532e-01, 2.00000000e+00],\n",
       "       [5.79595776e-01, 6.49083568e-01, 1.65316648e+00, 2.00000000e+00],\n",
       "       [1.74332348e+00, 6.14823685e-01, 4.68760575e-01, 2.00000000e+00],\n",
       "       [5.37736632e-01, 1.73103929e+00, 4.10269786e-01, 2.00000000e+00],\n",
       "       [6.11471499e-01, 4.30713836e-01, 1.75552365e+00, 2.00000000e+00],\n",
       "       [5.81161520e-01, 1.75620854e-01, 4.83862399e-01, 2.00000000e+00],\n",
       "       [1.90429449e+00, 5.35596015e-01, 3.60648335e-01, 2.00000000e+00],\n",
       "       [1.71974723e+00, 8.64868607e-01, 5.79055113e-01, 2.00000000e+00],\n",
       "       [4.22384283e-01, 4.27498090e-01, 1.98734251e+00, 2.00000000e+00],\n",
       "       [9.35211382e-01, 9.22251145e-01, 1.60755380e+00, 2.00000000e+00],\n",
       "       [5.15017457e-01, 1.72963851e+00, 2.40032877e-01, 2.00000000e+00],\n",
       "       [4.94635345e-02, 1.87973527e+00, 9.41832332e-01, 2.00000000e+00],\n",
       "       [1.72718006e+00, 1.96108121e-01, 8.67837272e-01, 2.00000000e+00],\n",
       "       [3.17771880e-01, 3.19298872e-01, 8.47060190e-01, 2.00000000e+00]])"
      ]
     },
     "execution_count": 195,
     "metadata": {},
     "output_type": "execute_result"
    }
   ],
   "source": [
    "def generate_rnd2_priorities(priorities, after_dropout):\n",
    "    rnd2_priorities = np.copy(priorities)\n",
    "    for sch, students in after_dropout.items():\n",
    "        rnd2_priorities[students,sch] += 1\n",
    "    return np.append(rnd2_priorities, np.full((n,1),2, dtype=int), axis=1)\n",
    "\n",
    "rnd2_priorities = generate_rnd2_priorities(priorities, after_dropout)\n",
    "rnd2_priorities"
   ]
  },
  {
   "cell_type": "code",
   "execution_count": 205,
   "id": "7f62fd40",
   "metadata": {},
   "outputs": [],
   "source": [
    "da2 = DeferredAcceptance(rnd2_preferences, rnd2_priorities, np.array([22,22,22,n]))\n",
    "r2_assignment_before_removal = da2.da()"
   ]
  },
  {
   "cell_type": "code",
   "execution_count": 206,
   "id": "8b902f9e",
   "metadata": {},
   "outputs": [
    {
     "data": {
      "text/plain": [
       "{0: array([ 7, 32, 72, 48, 53, 46, 68, 78, 73, 55, 23, 21, 43,  6, 71, 26, 67,\n",
       "         8, 18, 54, 47, 74]),\n",
       " 1: array([57, 36,  4, 14, 77, 31, 15, 66, 28, 52, 39, 11, 69, 76, 40,  3, 56,\n",
       "        44, 30, 64, 51, 13]),\n",
       " 2: array([59, 16, 49, 41, 63, 27, 29, 22, 70, 62, 12, 17,  2, 75, 58, 37,  0,\n",
       "        61, 25, 20, 65,  1]),\n",
       " 3: array([79, 60, 50, 45, 42, 38, 34, 33, 24, 19, 10,  5,  9, 35])}"
      ]
     },
     "execution_count": 206,
     "metadata": {},
     "output_type": "execute_result"
    }
   ],
   "source": [
    "r2_assignment_before_removal"
   ]
  },
  {
   "cell_type": "code",
   "execution_count": 210,
   "id": "191c3f2f",
   "metadata": {},
   "outputs": [
    {
     "data": {
      "text/plain": [
       "array([42, 10, 45,  5, 34, 24, 33, 60, 19, 38, 50, 79])"
      ]
     },
     "execution_count": 210,
     "metadata": {},
     "output_type": "execute_result"
    }
   ],
   "source": [
    "leaving"
   ]
  },
  {
   "cell_type": "code",
   "execution_count": 207,
   "id": "9c654597",
   "metadata": {},
   "outputs": [],
   "source": [
    "r2_assignment = {}\n",
    "for school, students in r2_assignment_before_removal.items():\n",
    "    r2_assignment[school] = np.array(list(set(students)-set(leaving)))"
   ]
  },
  {
   "cell_type": "code",
   "execution_count": 208,
   "id": "53afe251",
   "metadata": {},
   "outputs": [
    {
     "data": {
      "text/plain": [
       "{0: array([ 6,  7,  8, 18, 21, 23, 26, 32, 43, 46, 47, 48, 53, 54, 55, 67, 68,\n",
       "        71, 72, 73, 74, 78]),\n",
       " 1: array([ 3,  4, 11, 13, 14, 15, 28, 30, 31, 36, 39, 40, 44, 51, 52, 56, 57,\n",
       "        64, 66, 69, 76, 77]),\n",
       " 2: array([ 0,  1,  2, 12, 16, 17, 20, 22, 25, 27, 29, 37, 41, 49, 58, 59, 61,\n",
       "        62, 63, 65, 70, 75]),\n",
       " 3: array([ 9, 35])}"
      ]
     },
     "execution_count": 208,
     "metadata": {},
     "output_type": "execute_result"
    }
   ],
   "source": [
    "r2_assignment"
   ]
  },
  {
   "cell_type": "code",
   "execution_count": 179,
   "id": "0cd50c5a",
   "metadata": {},
   "outputs": [
    {
     "data": {
      "text/plain": [
       "{0: array([ 7, 32, 72, 48,  1, 53, 46, 68, 78, 73, 55, 23, 21, 43,  6]),\n",
       " 1: array([57, 36,  4, 14, 77, 31, 15,  0, 66, 28, 52, 39, 11, 69, 76, 40, 18,\n",
       "        47,  3, 56]),\n",
       " 2: array([26, 74, 59, 16, 49, 41, 63, 27, 29, 22, 70,  8, 62, 12, 17, 67,  2,\n",
       "        75, 44])}"
      ]
     },
     "execution_count": 179,
     "metadata": {},
     "output_type": "execute_result"
    }
   ],
   "source": [
    "after_dropout"
   ]
  },
  {
   "cell_type": "code",
   "execution_count": 209,
   "id": "54346150",
   "metadata": {},
   "outputs": [
    {
     "name": "stdout",
     "output_type": "stream",
     "text": [
      "15\n",
      "22\n",
      "{1}\n",
      "\n",
      "20\n",
      "22\n",
      "{0, 18, 47}\n",
      "\n",
      "19\n",
      "22\n",
      "{67, 8, 74, 44, 26}\n",
      "\n"
     ]
    }
   ],
   "source": [
    "for sch in range(3):\n",
    "    print(len(after_dropout[sch]))\n",
    "    print(len(r2_assignment[sch]))\n",
    "    print(set(after_dropout[sch])-set(r2_assignment[sch]))\n",
    "    print()"
   ]
  },
  {
   "cell_type": "code",
   "execution_count": 211,
   "id": "2a445a1b",
   "metadata": {},
   "outputs": [
    {
     "data": {
      "text/plain": [
       "24"
      ]
     },
     "execution_count": 211,
     "metadata": {},
     "output_type": "execute_result"
    }
   ],
   "source": [
    "qhat_max = int(q/(1-p))\n",
    "qhat_max"
   ]
  },
  {
   "cell_type": "code",
   "execution_count": 214,
   "id": "c01417cc",
   "metadata": {},
   "outputs": [],
   "source": [
    "def evaluate_assignment(after_dropout):\n",
    "    overfilled = 0\n",
    "    empty = 0\n",
    "    for school, students in after_dropout.items():\n",
    "        overfilled += len(students) > q\n",
    "        empty += max(0, q-len(students))\n",
    "    return np.array([overfilled, empty])\n",
    "    "
   ]
  },
  {
   "cell_type": "code",
   "execution_count": 217,
   "id": "929d2afb",
   "metadata": {},
   "outputs": [],
   "source": [
    "utilities = np.tile([6,5,4], (n,1))\n",
    "mnl = MNL(utilities, num_students=n)\n",
    "num_iters = 1000\n",
    "\n",
    "grid_search_results = {}\n",
    "for q1hat in range(q, qhat_max+1):\n",
    "    for q2hat in range(q, qhat_max+1):\n",
    "        for q3hat in range(q, qhat_max+1):\n",
    "            capacities = np.array([q1hat, q2hat, q3hat])\n",
    "            results = np.zeros((num_iters,2))\n",
    "            \n",
    "            for i in range(num_iters):\n",
    "                priorities = np.random.uniform(size=(n,3))\n",
    "                preferences = mnl.sample_preference_ordering()\n",
    "\n",
    "                da = DeferredAcceptance(preferences,priorities, capacities)\n",
    "                assignment = da.da()\n",
    "\n",
    "                after_dropout, leaving = simulate_dropout(assignment)\n",
    "                results[i,:] = evaluate_assignment(after_dropout)\n",
    "                \n",
    "            grid_search_results[(q1hat, q2hat, q3hat)] = results"
   ]
  },
  {
   "cell_type": "code",
   "execution_count": 218,
   "id": "b041cb2b",
   "metadata": {},
   "outputs": [
    {
     "data": {
      "text/plain": [
       "{(22,\n",
       "  22,\n",
       "  22): array([[ 0.,  6.],\n",
       "        [ 0., 11.],\n",
       "        [ 0.,  4.],\n",
       "        ...,\n",
       "        [ 0.,  4.],\n",
       "        [ 0.,  3.],\n",
       "        [ 0.,  7.]]),\n",
       " (22,\n",
       "  22,\n",
       "  23): array([[ 0.,  1.],\n",
       "        [ 0.,  4.],\n",
       "        [ 0.,  7.],\n",
       "        ...,\n",
       "        [ 0.,  8.],\n",
       "        [ 0.,  6.],\n",
       "        [ 0., 10.]]),\n",
       " (22,\n",
       "  22,\n",
       "  24): array([[0., 9.],\n",
       "        [0., 3.],\n",
       "        [0., 6.],\n",
       "        ...,\n",
       "        [1., 5.],\n",
       "        [0., 4.],\n",
       "        [1., 3.]]),\n",
       " (22,\n",
       "  23,\n",
       "  22): array([[0., 2.],\n",
       "        [0., 5.],\n",
       "        [0., 6.],\n",
       "        ...,\n",
       "        [0., 9.],\n",
       "        [0., 4.],\n",
       "        [0., 9.]]),\n",
       " (22,\n",
       "  23,\n",
       "  23): array([[ 1.,  2.],\n",
       "        [ 0.,  5.],\n",
       "        [ 0.,  9.],\n",
       "        ...,\n",
       "        [ 1.,  2.],\n",
       "        [ 0., 10.],\n",
       "        [ 1.,  5.]]),\n",
       " (22,\n",
       "  23,\n",
       "  24): array([[1., 4.],\n",
       "        [0., 8.],\n",
       "        [0., 6.],\n",
       "        ...,\n",
       "        [0., 6.],\n",
       "        [0., 7.],\n",
       "        [1., 7.]]),\n",
       " (22,\n",
       "  24,\n",
       "  22): array([[0., 7.],\n",
       "        [1., 5.],\n",
       "        [0., 3.],\n",
       "        ...,\n",
       "        [0., 5.],\n",
       "        [0., 3.],\n",
       "        [0., 3.]]),\n",
       " (22,\n",
       "  24,\n",
       "  23): array([[0., 4.],\n",
       "        [0., 7.],\n",
       "        [0., 6.],\n",
       "        ...,\n",
       "        [0., 9.],\n",
       "        [0., 7.],\n",
       "        [1., 6.]]),\n",
       " (22,\n",
       "  24,\n",
       "  24): array([[0., 8.],\n",
       "        [0., 6.],\n",
       "        [0., 3.],\n",
       "        ...,\n",
       "        [0., 5.],\n",
       "        [0., 4.],\n",
       "        [0., 3.]]),\n",
       " (23,\n",
       "  22,\n",
       "  22): array([[ 1.,  3.],\n",
       "        [ 0.,  4.],\n",
       "        [ 0.,  6.],\n",
       "        ...,\n",
       "        [ 0., 10.],\n",
       "        [ 0.,  3.],\n",
       "        [ 0.,  7.]]),\n",
       " (23,\n",
       "  22,\n",
       "  23): array([[0., 5.],\n",
       "        [0., 5.],\n",
       "        [0., 5.],\n",
       "        ...,\n",
       "        [1., 4.],\n",
       "        [1., 4.],\n",
       "        [1., 4.]]),\n",
       " (23,\n",
       "  22,\n",
       "  24): array([[0., 5.],\n",
       "        [0., 6.],\n",
       "        [2., 3.],\n",
       "        ...,\n",
       "        [1., 4.],\n",
       "        [1., 2.],\n",
       "        [0., 4.]]),\n",
       " (23,\n",
       "  23,\n",
       "  22): array([[0., 5.],\n",
       "        [0., 4.],\n",
       "        [0., 6.],\n",
       "        ...,\n",
       "        [1., 3.],\n",
       "        [1., 4.],\n",
       "        [0., 4.]]),\n",
       " (23,\n",
       "  23,\n",
       "  23): array([[0., 3.],\n",
       "        [0., 3.],\n",
       "        [1., 3.],\n",
       "        ...,\n",
       "        [0., 6.],\n",
       "        [1., 0.],\n",
       "        [0., 8.]]),\n",
       " (23,\n",
       "  23,\n",
       "  24): array([[1., 1.],\n",
       "        [0., 7.],\n",
       "        [1., 2.],\n",
       "        ...,\n",
       "        [0., 4.],\n",
       "        [0., 0.],\n",
       "        [0., 5.]]),\n",
       " (23,\n",
       "  24,\n",
       "  22): array([[1., 5.],\n",
       "        [1., 5.],\n",
       "        [0., 1.],\n",
       "        ...,\n",
       "        [0., 5.],\n",
       "        [0., 7.],\n",
       "        [0., 4.]]),\n",
       " (23,\n",
       "  24,\n",
       "  23): array([[0., 7.],\n",
       "        [0., 3.],\n",
       "        [0., 1.],\n",
       "        ...,\n",
       "        [0., 2.],\n",
       "        [0., 0.],\n",
       "        [0., 3.]]),\n",
       " (23,\n",
       "  24,\n",
       "  24): array([[1., 2.],\n",
       "        [0., 3.],\n",
       "        [0., 2.],\n",
       "        ...,\n",
       "        [1., 0.],\n",
       "        [0., 1.],\n",
       "        [1., 0.]]),\n",
       " (24,\n",
       "  22,\n",
       "  22): array([[0., 5.],\n",
       "        [0., 4.],\n",
       "        [0., 3.],\n",
       "        ...,\n",
       "        [0., 6.],\n",
       "        [1., 6.],\n",
       "        [0., 8.]]),\n",
       " (24,\n",
       "  22,\n",
       "  23): array([[1., 1.],\n",
       "        [1., 5.],\n",
       "        [0., 6.],\n",
       "        ...,\n",
       "        [0., 5.],\n",
       "        [0., 1.],\n",
       "        [0., 8.]]),\n",
       " (24,\n",
       "  22,\n",
       "  24): array([[1., 1.],\n",
       "        [1., 4.],\n",
       "        [1., 5.],\n",
       "        ...,\n",
       "        [0., 1.],\n",
       "        [1., 3.],\n",
       "        [1., 7.]]),\n",
       " (24,\n",
       "  23,\n",
       "  22): array([[ 0.,  9.],\n",
       "        [ 1.,  3.],\n",
       "        [ 1.,  6.],\n",
       "        ...,\n",
       "        [ 0., 10.],\n",
       "        [ 1.,  2.],\n",
       "        [ 0.,  7.]]),\n",
       " (24,\n",
       "  23,\n",
       "  23): array([[0., 6.],\n",
       "        [0., 3.],\n",
       "        [0., 7.],\n",
       "        ...,\n",
       "        [1., 2.],\n",
       "        [1., 6.],\n",
       "        [0., 0.]]),\n",
       " (24,\n",
       "  23,\n",
       "  24): array([[0., 1.],\n",
       "        [1., 1.],\n",
       "        [1., 3.],\n",
       "        ...,\n",
       "        [1., 0.],\n",
       "        [0., 5.],\n",
       "        [1., 1.]]),\n",
       " (24,\n",
       "  24,\n",
       "  22): array([[0., 2.],\n",
       "        [2., 2.],\n",
       "        [1., 4.],\n",
       "        ...,\n",
       "        [0., 2.],\n",
       "        [0., 4.],\n",
       "        [2., 1.]]),\n",
       " (24,\n",
       "  24,\n",
       "  23): array([[1., 2.],\n",
       "        [0., 4.],\n",
       "        [0., 3.],\n",
       "        ...,\n",
       "        [1., 3.],\n",
       "        [0., 5.],\n",
       "        [0., 7.]]),\n",
       " (24,\n",
       "  24,\n",
       "  24): array([[1., 1.],\n",
       "        [1., 1.],\n",
       "        [1., 1.],\n",
       "        ...,\n",
       "        [2., 0.],\n",
       "        [0., 7.],\n",
       "        [1., 3.]])}"
      ]
     },
     "execution_count": 218,
     "metadata": {},
     "output_type": "execute_result"
    }
   ],
   "source": [
    "grid_search_results"
   ]
  },
  {
   "cell_type": "code",
   "execution_count": 220,
   "id": "766f4dd6",
   "metadata": {},
   "outputs": [
    {
     "name": "stdout",
     "output_type": "stream",
     "text": [
      "(22, 22, 22) [0.      0.08325]\n",
      "(22, 22, 23) [0.09    0.07165]\n",
      "(22, 22, 24) [0.308     0.0645125]\n",
      "(22, 23, 22) [0.075   0.07145]\n",
      "(22, 23, 23) [0.166     0.0617125]\n",
      "(22, 23, 24) [0.391   0.05385]\n",
      "(22, 24, 22) [0.29      0.0648875]\n",
      "(22, 24, 23) [0.396     0.0537625]\n",
      "(22, 24, 24) [0.607     0.0459125]\n",
      "(23, 22, 22) [0.103   0.07275]\n",
      "(23, 22, 23) [0.173    0.061825]\n",
      "(23, 22, 24) [0.385     0.0551375]\n",
      "(23, 23, 22) [0.162     0.0623375]\n",
      "(23, 23, 23) [0.25      0.0540875]\n",
      "(23, 23, 24) [0.463    0.044125]\n",
      "(23, 24, 22) [0.364    0.055125]\n",
      "(23, 24, 23) [0.466  0.0441]\n",
      "(23, 24, 24) [0.681     0.0347375]\n",
      "(24, 22, 22) [0.276     0.0646125]\n",
      "(24, 22, 23) [0.401     0.0559875]\n",
      "(24, 22, 24) [0.612     0.0471875]\n",
      "(24, 23, 22) [0.398     0.0547125]\n",
      "(24, 23, 23) [0.457    0.045025]\n",
      "(24, 23, 24) [0.698     0.0357375]\n",
      "(24, 24, 22) [0.573   0.04635]\n",
      "(24, 24, 23) [0.693  0.0388]\n",
      "(24, 24, 24) [0.842    0.029625]\n"
     ]
    }
   ],
   "source": [
    "for k, v in grid_search_results.items():\n",
    "    print(k, np.sum(v, axis=0)/np.array([num_iters, num_iters*n]))"
   ]
  },
  {
   "cell_type": "code",
   "execution_count": 221,
   "id": "3e28be6f",
   "metadata": {},
   "outputs": [
    {
     "ename": "AttributeError",
     "evalue": "'numpy.ndarray' object has no attribute 'append'",
     "output_type": "error",
     "traceback": [
      "\u001b[0;31m---------------------------------------------------------------------------\u001b[0m",
      "\u001b[0;31mAttributeError\u001b[0m                            Traceback (most recent call last)",
      "\u001b[0;32m/var/folders/sm/3fwnfv0s4dz92rkrtnq8vcbr0000gn/T/ipykernel_92914/564376280.py\u001b[0m in \u001b[0;36m<module>\u001b[0;34m\u001b[0m\n\u001b[1;32m      1\u001b[0m \u001b[0mx\u001b[0m \u001b[0;34m=\u001b[0m \u001b[0mnp\u001b[0m\u001b[0;34m.\u001b[0m\u001b[0marray\u001b[0m\u001b[0;34m(\u001b[0m\u001b[0;34m[\u001b[0m\u001b[0;36m1\u001b[0m\u001b[0;34m,\u001b[0m\u001b[0;36m2\u001b[0m\u001b[0;34m,\u001b[0m\u001b[0;36m3\u001b[0m\u001b[0;34m]\u001b[0m\u001b[0;34m)\u001b[0m\u001b[0;34m\u001b[0m\u001b[0;34m\u001b[0m\u001b[0m\n\u001b[0;32m----> 2\u001b[0;31m \u001b[0mx\u001b[0m\u001b[0;34m.\u001b[0m\u001b[0mappend\u001b[0m\u001b[0;34m(\u001b[0m\u001b[0;36m4\u001b[0m\u001b[0;34m)\u001b[0m\u001b[0;34m\u001b[0m\u001b[0;34m\u001b[0m\u001b[0m\n\u001b[0m",
      "\u001b[0;31mAttributeError\u001b[0m: 'numpy.ndarray' object has no attribute 'append'"
     ]
    }
   ],
   "source": [
    "x = np.array([1,2,3])\n",
    "x.append(4)"
   ]
  },
  {
   "cell_type": "code",
   "execution_count": null,
   "id": "fd936648",
   "metadata": {},
   "outputs": [],
   "source": []
  }
 ],
 "metadata": {
  "kernelspec": {
   "display_name": "Python 3 (ipykernel)",
   "language": "python",
   "name": "python3"
  },
  "language_info": {
   "codemirror_mode": {
    "name": "ipython",
    "version": 3
   },
   "file_extension": ".py",
   "mimetype": "text/x-python",
   "name": "python",
   "nbconvert_exporter": "python",
   "pygments_lexer": "ipython3",
   "version": "3.7.9"
  }
 },
 "nbformat": 4,
 "nbformat_minor": 5
}
