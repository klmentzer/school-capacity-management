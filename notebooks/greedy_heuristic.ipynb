{
 "cells": [
  {
   "cell_type": "code",
   "execution_count": 11,
   "id": "9d1686ab",
   "metadata": {},
   "outputs": [
    {
     "name": "stdout",
     "output_type": "stream",
     "text": [
      "The autoreload extension is already loaded. To reload it, use:\n",
      "  %reload_ext autoreload\n"
     ]
    }
   ],
   "source": [
    "%load_ext autoreload\n",
    "%autoreload 2\n",
    "import numpy as np\n",
    "import random\n",
    "import sys\n",
    "sys.path.append('..')\n",
    "from capacity_management.src.cost_simulation import CostSimulator"
   ]
  },
  {
   "cell_type": "code",
   "execution_count": 18,
   "id": "de815e26",
   "metadata": {},
   "outputs": [],
   "source": [
    "co = 10\n",
    "cu = 1\n",
    "iters=10000\n",
    "p = 0.15\n",
    "n = 4\n",
    "true_caps = np.array([100]*n)"
   ]
  },
  {
   "cell_type": "code",
   "execution_count": 19,
   "id": "cef4d313",
   "metadata": {},
   "outputs": [],
   "source": [
    "cs = CostSimulator(co, cu, iters, p, true_caps)"
   ]
  },
  {
   "cell_type": "code",
   "execution_count": 20,
   "id": "08984264",
   "metadata": {},
   "outputs": [
    {
     "name": "stdout",
     "output_type": "stream",
     "text": [
      "Inflated capacities found by our Greedy algorithm are [113 117 116 115]\n",
      "Associated cost is: 36.28099999999999\n"
     ]
    }
   ],
   "source": [
    "# initialize inflated capacities to true capacities\n",
    "qhat = true_caps.copy()\n",
    "\n",
    "np.random.seed(0)\n",
    "random.seed(0)\n",
    "\n",
    "cs.simulate_multi_school_costs(qhat)\n",
    "curr_cost = cs.costs.sum()\n",
    "\n",
    "while True:\n",
    "    new_costs = np.empty(n)\n",
    "    for i in range(n):\n",
    "        cs.simulate_multi_school_costs(\n",
    "            qhat + np.array([1 if j == i else 0 for j in range(n)])\n",
    "        )\n",
    "        new_costs[i] = cs.costs.sum()\n",
    "\n",
    "    if (curr_cost - new_costs < 0).all():\n",
    "        break\n",
    "\n",
    "    i = np.argmax(curr_cost - new_costs)\n",
    "    qhat[i] += 1\n",
    "    curr_cost = new_costs[i]\n",
    "\n",
    "\n",
    "print(\"Inflated capacities found by our Greedy algorithm are \" + str(qhat))\n",
    "print(\"Associated cost is: \" + str(curr_cost))"
   ]
  },
  {
   "cell_type": "code",
   "execution_count": null,
   "id": "ed5ac3bc",
   "metadata": {},
   "outputs": [],
   "source": []
  }
 ],
 "metadata": {
  "kernelspec": {
   "display_name": "Python 3 (ipykernel)",
   "language": "python",
   "name": "python3"
  },
  "language_info": {
   "codemirror_mode": {
    "name": "ipython",
    "version": 3
   },
   "file_extension": ".py",
   "mimetype": "text/x-python",
   "name": "python",
   "nbconvert_exporter": "python",
   "pygments_lexer": "ipython3",
   "version": "3.7.9"
  }
 },
 "nbformat": 4,
 "nbformat_minor": 5
}
