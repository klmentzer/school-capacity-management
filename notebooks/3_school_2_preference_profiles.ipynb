{
 "cells": [
  {
   "cell_type": "code",
   "execution_count": 25,
   "id": "c692f1db",
   "metadata": {},
   "outputs": [],
   "source": [
    "# %load_ext autoreload\n",
    "%autoreload 2\n",
    "import numpy as np \n",
    "import sys\n",
    "sys.path.append('..')\n",
    "from capacity_management.src.da import DeferredAcceptance"
   ]
  },
  {
   "cell_type": "code",
   "execution_count": 36,
   "id": "b0c0fc3e",
   "metadata": {},
   "outputs": [],
   "source": [
    "n = 60 # num students\n",
    "qs = np.full(3, 22) # true capacity\n",
    "priority_category_size = n//3\n",
    "typeA_per_priority = 15 # numbsd of students who prefer 1 > 2 > 3 (type A), remainder prefer 1 > 3 > 2 (type B)\n",
    "assert typeA_per_priority < n / 3"
   ]
  },
  {
   "cell_type": "code",
   "execution_count": 32,
   "id": "e791aa8b",
   "metadata": {},
   "outputs": [],
   "source": [
    "def generate_priorities(n):\n",
    "    priorities = np.random.uniform(size=(n, 3))\n",
    "    for i in range(3):\n",
    "        priorities[n//3*i:n//3*(i+1),i] += 1\n",
    "    return priorities"
   ]
  },
  {
   "cell_type": "code",
   "execution_count": 33,
   "id": "ab1d2d1d",
   "metadata": {},
   "outputs": [],
   "source": [
    "def generate_preferences(n, typeA_per_priority, priority_category_size):\n",
    "    preferences = np.zeros((n,3))\n",
    "    for i in range(3):\n",
    "        preferences[n//3*i:n//3*i + typeA_per_priority,1] = 1\n",
    "        preferences[n//3*i + typeA_per_priority:n//3*i +priority_category_size,1] = 2\n",
    "\n",
    "        preferences[n//3*i:n//3*i + typeA_per_priority,2] = 2\n",
    "        preferences[n//3*i + typeA_per_priority:n//3*i +priority_category_size,2] = 1\n",
    "    return preferences\n",
    "\n",
    "def generate_types(n, typeA_per_priority, priority_category_size):\n",
    "    types = ['' for i in range(n)] \n",
    "    for i in range(3):\n",
    "        types[n//3*i:n//3*i + typeA_per_priority] = [f'A{i}' for j in range(typeA_per_priority)]\n",
    "        types[n//3*i + typeA_per_priority:n//3*i +priority_category_size] = [f'B{i}' for j in range(priority_category_size-typeA_per_priority)]\n",
    "\n",
    "    return types"
   ]
  },
  {
   "cell_type": "code",
   "execution_count": 34,
   "id": "128655fe",
   "metadata": {},
   "outputs": [],
   "source": [
    "priorities = generate_priorities(n)\n",
    "preferences = generate_preferences(n, typeA_per_priority, priority_category_size)\n",
    "types = generate_types(n, typeA_per_priority, priority_category_size)\n",
    "\n",
    "da = DeferredAcceptance(preferences, priorities, qs)\n",
    "assignment = da.da()"
   ]
  },
  {
   "cell_type": "code",
   "execution_count": 37,
   "id": "9ceee1ff",
   "metadata": {},
   "outputs": [
    {
     "data": {
      "text/plain": [
       "{0: {'A0': 15, 'A2': 2, 'B0': 5},\n",
       " 1: {'A1': 15, 'A2': 7},\n",
       " 2: {'A2': 6, 'B1': 5, 'B2': 5}}"
      ]
     },
     "execution_count": 37,
     "metadata": {},
     "output_type": "execute_result"
    }
   ],
   "source": [
    "def count_types_per_school(assignment, types):\n",
    "    type_count = {}\n",
    "    for school, students in assignment.items():\n",
    "        student_types = [types[i] for i in students]\n",
    "        vals, counts = np.unique(student_types, return_counts=True)\n",
    "        type_count[school] = dict(zip(vals, counts))\n",
    "    return type_count\n",
    "    \n",
    "count_types_per_school(assignment, types)"
   ]
  },
  {
   "cell_type": "code",
   "execution_count": null,
   "id": "cbff6dba",
   "metadata": {},
   "outputs": [],
   "source": []
  },
  {
   "cell_type": "code",
   "execution_count": null,
   "id": "f2d20612",
   "metadata": {},
   "outputs": [],
   "source": []
  }
 ],
 "metadata": {
  "kernelspec": {
   "display_name": "Python 3 (ipykernel)",
   "language": "python",
   "name": "python3"
  },
  "language_info": {
   "codemirror_mode": {
    "name": "ipython",
    "version": 3
   },
   "file_extension": ".py",
   "mimetype": "text/x-python",
   "name": "python",
   "nbconvert_exporter": "python",
   "pygments_lexer": "ipython3",
   "version": "3.7.9"
  }
 },
 "nbformat": 4,
 "nbformat_minor": 5
}
