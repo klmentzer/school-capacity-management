{
 "cells": [
  {
   "cell_type": "code",
   "execution_count": 1,
   "id": "1b436cda",
   "metadata": {},
   "outputs": [
    {
     "ename": "ImportError",
     "evalue": "cannot import name 'simulate_yield_costs' from 'capacity_management.src.cost_simulation' (../capacity_management/src/cost_simulation.py)",
     "output_type": "error",
     "traceback": [
      "\u001b[0;31m---------------------------------------------------------------------------\u001b[0m",
      "\u001b[0;31mImportError\u001b[0m                               Traceback (most recent call last)",
      "\u001b[0;32m/var/folders/sm/3fwnfv0s4dz92rkrtnq8vcbr0000gn/T/ipykernel_22598/3475354264.py\u001b[0m in \u001b[0;36m<module>\u001b[0;34m\u001b[0m\n\u001b[1;32m      4\u001b[0m \u001b[0;32mimport\u001b[0m \u001b[0msys\u001b[0m\u001b[0;34m\u001b[0m\u001b[0;34m\u001b[0m\u001b[0m\n\u001b[1;32m      5\u001b[0m \u001b[0msys\u001b[0m\u001b[0;34m.\u001b[0m\u001b[0mpath\u001b[0m\u001b[0;34m.\u001b[0m\u001b[0mappend\u001b[0m\u001b[0;34m(\u001b[0m\u001b[0;34m'..'\u001b[0m\u001b[0;34m)\u001b[0m\u001b[0;34m\u001b[0m\u001b[0;34m\u001b[0m\u001b[0m\n\u001b[0;32m----> 6\u001b[0;31m from capacity_management.src.cost_simulation import (\n\u001b[0m\u001b[1;32m      7\u001b[0m     \u001b[0msimulate_yield_costs\u001b[0m\u001b[0;34m,\u001b[0m\u001b[0;34m\u001b[0m\u001b[0;34m\u001b[0m\u001b[0m\n\u001b[1;32m      8\u001b[0m     \u001b[0msimulate_2_school_costs\u001b[0m\u001b[0;34m,\u001b[0m\u001b[0;34m\u001b[0m\u001b[0;34m\u001b[0m\u001b[0m\n",
      "\u001b[0;31mImportError\u001b[0m: cannot import name 'simulate_yield_costs' from 'capacity_management.src.cost_simulation' (../capacity_management/src/cost_simulation.py)"
     ]
    }
   ],
   "source": [
    "%load_ext autoreload\n",
    "%autoreload 2\n",
    "import numpy as np\n",
    "import sys\n",
    "sys.path.append('..')\n",
    "from capacity_management.src.cost_simulation import (\n",
    "    simulate_yield_costs,\n",
    "    simulate_2_school_costs,\n",
    "    optimize_2sch,\n",
    "    heuristic_set_capacity,\n",
    "    compute_cdf_inflate_sep, simulate_multi_school_costs,\n",
    ")"
   ]
  },
  {
   "cell_type": "markdown",
   "id": "d4c2638c",
   "metadata": {},
   "source": [
    "## Two Schools, Same Size - together vs separate"
   ]
  },
  {
   "cell_type": "code",
   "execution_count": 46,
   "id": "62b965c7",
   "metadata": {},
   "outputs": [],
   "source": [
    "p = 0.15\n",
    "co = 10; cu = 1\n",
    "T = 1000\n",
    "q1 = q2 = 44\n",
    "qhat1_sep = qhat2_sep = heuristic_set_capacity(q1, co, cu, p)\n",
    "qhat1_chain = qhat1_sep\n",
    "qhat2_chain = heuristic_set_capacity(q2 + q1, co, cu, p) - qhat1_chain"
   ]
  },
  {
   "cell_type": "code",
   "execution_count": 47,
   "id": "dc2abd87",
   "metadata": {},
   "outputs": [
    {
     "data": {
      "text/plain": [
       "(48, 48)"
      ]
     },
     "execution_count": 47,
     "metadata": {},
     "output_type": "execute_result"
    }
   ],
   "source": [
    "qhat1_sep, qhat2_sep"
   ]
  },
  {
   "cell_type": "code",
   "execution_count": 48,
   "id": "7e3bf368",
   "metadata": {},
   "outputs": [
    {
     "data": {
      "text/plain": [
       "(48, 50)"
      ]
     },
     "execution_count": 48,
     "metadata": {},
     "output_type": "execute_result"
    }
   ],
   "source": [
    "qhat1_chain, qhat2_chain"
   ]
  },
  {
   "cell_type": "code",
   "execution_count": 49,
   "id": "0ccda3f8",
   "metadata": {},
   "outputs": [],
   "source": [
    "def heuristic_set_capacity_chain(true_caps, co, cu, p):\n",
    "    running_true_cap = 0 \n",
    "    running_inf_cap = 0 \n",
    "    inf_caps = []\n",
    "    for q in true_caps:\n",
    "        running_true_cap += q\n",
    "        qhat = heuristic_set_capacity(running_true_cap, co, cu, p) - running_inf_cap\n",
    "        running_inf_cap += qhat\n",
    "        inf_caps.append(qhat)\n",
    "    return np.array(inf_caps)\n",
    "\n",
    "def heuristic_set_capacity_independent(true_caps, co, cu, p):\n",
    "    inf_caps = []\n",
    "    for q in true_caps:\n",
    "        qhat = heuristic_set_capacity(q, co, cu, p) \n",
    "        inf_caps.append(qhat)\n",
    "    return np.array(inf_caps)"
   ]
  },
  {
   "cell_type": "code",
   "execution_count": 50,
   "id": "1438ad08",
   "metadata": {},
   "outputs": [
    {
     "data": {
      "text/plain": [
       "array([48, 50])"
      ]
     },
     "execution_count": 50,
     "metadata": {},
     "output_type": "execute_result"
    }
   ],
   "source": [
    "heuristic_set_capacity_chain([44, 44], co, cu, p)"
   ]
  },
  {
   "cell_type": "code",
   "execution_count": 51,
   "id": "2c3f7181",
   "metadata": {},
   "outputs": [
    {
     "data": {
      "text/plain": [
       "array([48, 48])"
      ]
     },
     "execution_count": 51,
     "metadata": {},
     "output_type": "execute_result"
    }
   ],
   "source": [
    "heuristic_set_capacity_independent([44, 44], co, cu, p)"
   ]
  },
  {
   "cell_type": "code",
   "execution_count": 52,
   "id": "01ef6d61",
   "metadata": {},
   "outputs": [
    {
     "data": {
      "text/plain": [
       "array([[0.86 , 3.325],\n",
       "       [0.84 , 4.961]])"
      ]
     },
     "execution_count": 52,
     "metadata": {},
     "output_type": "execute_result"
    }
   ],
   "source": [
    "true_caps = np.array([44,44])\n",
    "qhat_chain = heuristic_set_capacity_chain(true_caps, co, cu, p)\n",
    "np.random.seed(0)\n",
    "simulate_multi_school_costs(true_caps, qhat_chain, co, cu, T, p)"
   ]
  },
  {
   "cell_type": "code",
   "execution_count": 55,
   "id": "aa5c7ea8",
   "metadata": {},
   "outputs": [
    {
     "name": "stdout",
     "output_type": "stream",
     "text": [
      "total_cost 10.971\n"
     ]
    },
    {
     "data": {
      "text/plain": [
       "array([4.185, 6.786])"
      ]
     },
     "execution_count": 55,
     "metadata": {},
     "output_type": "execute_result"
    }
   ],
   "source": [
    "qhat_indep = heuristic_set_capacity_independent(true_caps, co, cu, p)\n",
    "np.random.seed(0)\n",
    "cost = simulate_multi_school_costs(true_caps, qhat_indep, co, cu, T, p)\n",
    "sch_cost = np.sum(cost, axis=1)\n",
    "total_cost = sum(sch_cost)\n",
    "print('total_cost', total_cost)\n",
    "sch_cost"
   ]
  },
  {
   "cell_type": "code",
   "execution_count": 54,
   "id": "6b402583",
   "metadata": {},
   "outputs": [
    {
     "data": {
      "text/plain": [
       "array([48, 50])"
      ]
     },
     "execution_count": 54,
     "metadata": {},
     "output_type": "execute_result"
    }
   ],
   "source": [
    "qhat_chain"
   ]
  },
  {
   "cell_type": "code",
   "execution_count": 31,
   "id": "fa4245aa",
   "metadata": {},
   "outputs": [
    {
     "data": {
      "text/plain": [
       "array([4, 6])"
      ]
     },
     "execution_count": 31,
     "metadata": {},
     "output_type": "execute_result"
    }
   ],
   "source": [
    "qhat_chain - true_caps"
   ]
  },
  {
   "cell_type": "code",
   "execution_count": 1,
   "id": "927e13fa",
   "metadata": {},
   "outputs": [],
   "source": [
    "%load_ext autoreload\n",
    "%autoreload 2\n",
    "import numpy as np\n",
    "import sys\n",
    "sys.path.append('..')\n",
    "from capacity_management.src.cost_simulation import CostSimulator"
   ]
  },
  {
   "cell_type": "code",
   "execution_count": 2,
   "id": "30aa92fc",
   "metadata": {},
   "outputs": [
    {
     "data": {
      "text/plain": [
       "{'total_cost': 10.8,\n",
       " 'school_costs': array([5.2, 5.6]),\n",
       " 'school_overage_costs': array([2., 0.]),\n",
       " 'school_underage_costs': array([3.2, 5.6]),\n",
       " 'avg_underfill/movers': 5.6,\n",
       " 'raw_inflation': array([4, 4]),\n",
       " 'pct_inflation': array([0.1, 0.1])}"
      ]
     },
     "execution_count": 2,
     "metadata": {},
     "output_type": "execute_result"
    }
   ],
   "source": [
    "cs = CostSimulator(co=10, cu=1, iters=10, prob=0.15, true_caps=np.array([40,40]), inf_strategy=\"independent\")\n",
    "cs.simulate()"
   ]
  },
  {
   "cell_type": "code",
   "execution_count": 6,
   "id": "e408d1c4",
   "metadata": {},
   "outputs": [
    {
     "data": {
      "text/plain": [
       "array([1.  , 1.25, 1.5 , 1.5 , 1.5 , 1.5 , 1.75, 1.5 , 1.5 , 1.75])"
      ]
     },
     "execution_count": 6,
     "metadata": {},
     "output_type": "execute_result"
    }
   ],
   "source": [
    "cs = CostSimulator(co=10, cu=1, iters=1000, prob=0.15, true_caps=np.array([40]*10), inf_strategy=\"chain\")\n",
    "cs.chaining_inflation_difference()"
   ]
  },
  {
   "cell_type": "code",
   "execution_count": 13,
   "id": "37a4208b",
   "metadata": {},
   "outputs": [
    {
     "data": {
      "text/plain": [
       "{'total_cost': 9.565000000000001,\n",
       " 'school_costs': array([3.87 , 5.695]),\n",
       " 'school_overage_costs': array([1.23, 0.62]),\n",
       " 'school_underage_costs': array([2.64 , 5.075]),\n",
       " 'avg_underfill': 5.109,\n",
       " 'raw_inflation': array([4, 6]),\n",
       " 'pct_inflation': array([0.1 , 0.12]),\n",
       " 'avg_movers': 0.02}"
      ]
     },
     "execution_count": 13,
     "metadata": {},
     "output_type": "execute_result"
    }
   ],
   "source": [
    "cs = CostSimulator(co=10, cu=1, iters=1000, prob=0.15, true_caps=np.array([40,50]), inf_strategy=\"chain\")\n",
    "cs.simulate()"
   ]
  },
  {
   "cell_type": "code",
   "execution_count": 14,
   "id": "e4e23813",
   "metadata": {},
   "outputs": [
    {
     "data": {
      "text/plain": [
       "{'total_cost': 10.252,\n",
       " 'school_costs': array([3.931, 6.321]),\n",
       " 'school_overage_costs': array([1.2 , 1.19]),\n",
       " 'school_underage_costs': array([2.731, 5.131]),\n",
       " 'avg_underfill': 5.191,\n",
       " 'raw_inflation': array([4, 8]),\n",
       " 'pct_inflation': array([0.1       , 0.13333333]),\n",
       " 'avg_movers': 0.029}"
      ]
     },
     "execution_count": 14,
     "metadata": {},
     "output_type": "execute_result"
    }
   ],
   "source": [
    "cs = CostSimulator(co=10, cu=1, iters=1000, prob=0.15, true_caps=np.array([40,60]), inf_strategy=\"chain\")\n",
    "cs.simulate()"
   ]
  },
  {
   "cell_type": "code",
   "execution_count": 15,
   "id": "b05d99e4",
   "metadata": {},
   "outputs": [
    {
     "data": {
      "text/plain": [
       "{'total_cost': 10.315,\n",
       " 'school_costs': array([4.627, 5.688]),\n",
       " 'school_overage_costs': array([1.4 , 0.64]),\n",
       " 'school_underage_costs': array([3.227, 5.048]),\n",
       " 'avg_underfill': 5.09,\n",
       " 'raw_inflation': array([5, 5]),\n",
       " 'pct_inflation': array([0.1  , 0.125]),\n",
       " 'avg_movers': 0.019}"
      ]
     },
     "execution_count": 15,
     "metadata": {},
     "output_type": "execute_result"
    }
   ],
   "source": [
    "cs = CostSimulator(co=10, cu=1, iters=1000, prob=0.15, true_caps=np.array([50,40]), inf_strategy=\"chain\")\n",
    "cs.simulate()"
   ]
  },
  {
   "cell_type": "code",
   "execution_count": 16,
   "id": "84ab4149",
   "metadata": {},
   "outputs": [
    {
     "data": {
      "text/plain": [
       "{'total_cost': 10.461,\n",
       " 'school_costs': array([4.626, 5.835]),\n",
       " 'school_overage_costs': array([0.94, 1.23]),\n",
       " 'school_underage_costs': array([3.686, 4.605]),\n",
       " 'avg_underfill': 4.651,\n",
       " 'raw_inflation': array([6, 6]),\n",
       " 'pct_inflation': array([0.1 , 0.15]),\n",
       " 'avg_movers': 0.065}"
      ]
     },
     "execution_count": 16,
     "metadata": {},
     "output_type": "execute_result"
    }
   ],
   "source": [
    "cs = CostSimulator(co=10, cu=1, iters=1000, prob=0.15, true_caps=np.array([60,40]), inf_strategy=\"chain\")\n",
    "cs.simulate()"
   ]
  },
  {
   "cell_type": "code",
   "execution_count": 43,
   "id": "c082b9b5",
   "metadata": {},
   "outputs": [],
   "source": [
    "caps = [40, 50, 60, 70, 80]\n",
    "metrics = {}\n",
    "np.random.seed(0)\n",
    "for q1 in caps:\n",
    "    for q2 in caps:\n",
    "        cs = CostSimulator(co=10, cu=1, iters=1000, prob=0.15, true_caps=np.array([60,40]), inf_strategy=\"chain\")\n",
    "        metrics[(q1,q2)] = cs.simulate()"
   ]
  },
  {
   "cell_type": "code",
   "execution_count": 44,
   "id": "fc7a8af5",
   "metadata": {},
   "outputs": [],
   "source": [
    "cost_array = np.zeros((5,5))\n",
    "underfill_array = np.zeros((5,5))\n",
    "for i in range(5):\n",
    "    for j in range(5):\n",
    "        cost_array[i,j] = metrics[(caps[i], caps[j])]['total_cost']\n",
    "        underfill_array[i,j] = metrics[(caps[i], caps[j])]['avg_underfill']"
   ]
  },
  {
   "cell_type": "code",
   "execution_count": 45,
   "id": "541fe7f5",
   "metadata": {},
   "outputs": [],
   "source": [
    "import matplotlib.pyplot as plt\n",
    "import seaborn as sns\n",
    "sns.set()"
   ]
  },
  {
   "cell_type": "code",
   "execution_count": 46,
   "id": "4cde6236",
   "metadata": {},
   "outputs": [
    {
     "data": {
      "text/plain": [
       "Text(30.5, 0.5, 'School 1 True Capacity')"
      ]
     },
     "execution_count": 46,
     "metadata": {},
     "output_type": "execute_result"
    },
    {
     "data": {
      "image/png": "[encoded data removed]",
      "text/plain": [
       "<Figure size 432x288 with 2 Axes>"
      ]
     },
     "metadata": {},
     "output_type": "display_data"
    }
   ],
   "source": [
    "ax = sns.heatmap(cost_array, xticklabels=caps, yticklabels=caps)\n",
    "ax.invert_yaxis()\n",
    "plt.title(\"2 School Chain - Total Cost\")\n",
    "plt.xlabel('School 2 True Capacity')\n",
    "plt.ylabel('School 1 True Capacity')"
   ]
  },
  {
   "cell_type": "code",
   "execution_count": 47,
   "id": "5a7b9364",
   "metadata": {},
   "outputs": [
    {
     "data": {
      "text/plain": [
       "Text(30.5, 0.5, 'School 1 True Capacity')"
      ]
     },
     "execution_count": 47,
     "metadata": {},
     "output_type": "execute_result"
    },
    {
     "data": {
      "image/png": "[encoded data removed]",
      "text/plain": [
       "<Figure size 432x288 with 2 Axes>"
      ]
     },
     "metadata": {},
     "output_type": "display_data"
    }
   ],
   "source": [
    "ax = sns.heatmap(underfill_array, xticklabels=caps, yticklabels=caps)\n",
    "ax.invert_yaxis()\n",
    "plt.title(\"2 School Chain - Average Underfill\")\n",
    "plt.xlabel('School 2 True Capacity')\n",
    "plt.ylabel('School 1 True Capacity')"
   ]
  },
  {
   "cell_type": "code",
   "execution_count": 48,
   "id": "7b2e60aa",
   "metadata": {},
   "outputs": [],
   "source": [
    "indep_cost = np.zeros((5,5))\n",
    "indep_underfill = np.zeros((5,5))\n",
    "np.random.seed(0)\n",
    "for i, q1 in enumerate(caps):\n",
    "    for j, q2 in enumerate(caps):\n",
    "        cs = CostSimulator(co=10, cu=1, iters=1000, prob=0.15, true_caps=np.array([60,40]), inf_strategy=\"independent\")\n",
    "        tmp = cs.simulate()\n",
    "        indep_cost[i,j] = tmp['total_cost']\n",
    "        indep_underfill[i,j] = tmp['avg_underfill']"
   ]
  },
  {
   "cell_type": "code",
   "execution_count": 60,
   "id": "768d5042",
   "metadata": {},
   "outputs": [
    {
     "data": {
      "text/plain": [
       "Text(30.5, 0.5, 'School 1 True Capacity')"
      ]
     },
     "execution_count": 60,
     "metadata": {},
     "output_type": "execute_result"
    },
    {
     "data": {
      "image/png": "[encoded data removed]",
      "text/plain": [
       "<Figure size 432x288 with 2 Axes>"
      ]
     },
     "metadata": {},
     "output_type": "display_data"
    }
   ],
   "source": [
    "ax = sns.heatmap(indep_cost-cost_array, xticklabels=caps, yticklabels=caps, center=0)\n",
    "ax.invert_yaxis()\n",
    "plt.title(\"2 School Chaining Improvement - Total Cost\")\n",
    "plt.xlabel('School 2 True Capacity')\n",
    "plt.ylabel('School 1 True Capacity')"
   ]
  },
  {
   "cell_type": "code",
   "execution_count": 59,
   "id": "f4687612",
   "metadata": {},
   "outputs": [
    {
     "data": {
      "text/plain": [
       "Text(30.5, 0.5, 'School 1 True Capacity')"
      ]
     },
     "execution_count": 59,
     "metadata": {},
     "output_type": "execute_result"
    },
    {
     "data": {
      "image/png": "[encoded data removed]",
      "text/plain": [
       "<Figure size 432x288 with 2 Axes>"
      ]
     },
     "metadata": {},
     "output_type": "display_data"
    }
   ],
   "source": [
    "ax = sns.heatmap(-underfill_array+indep_underfill, xticklabels=caps, yticklabels=caps, center=0)\n",
    "ax.invert_yaxis()\n",
    "plt.title(\"2 School Chaining Improvement - Average Underfill\")\n",
    "plt.xlabel('School 2 True Capacity')\n",
    "plt.ylabel('School 1 True Capacity')"
   ]
  },
  {
   "cell_type": "code",
   "execution_count": 63,
   "id": "3bc21424",
   "metadata": {},
   "outputs": [],
   "source": [
    "cost_per_student = indep_cost-cost_array\n",
    "underfill_per_seat = -underfill_array+indep_underfill\n",
    "for i, q1 in enumerate(caps):\n",
    "    for j, q2 in enumerate(caps):\n",
    "        cost_per_student[i,j] = cost_per_student[i,j]/(q1+q2)\n",
    "        underfill_per_seat[i,j] = underfill_per_seat[i,j]/(q1+q2)"
   ]
  },
  {
   "cell_type": "code",
   "execution_count": 66,
   "id": "b2ad6e7b",
   "metadata": {},
   "outputs": [
    {
     "data": {
      "text/plain": [
       "Text(30.5, 0.5, 'School 1 True Capacity')"
      ]
     },
     "execution_count": 66,
     "metadata": {},
     "output_type": "execute_result"
    },
    {
     "data": {
      "image/png": "[encoded data removed]",
      "text/plain": [
       "<Figure size 432x288 with 2 Axes>"
      ]
     },
     "metadata": {},
     "output_type": "display_data"
    }
   ],
   "source": [
    "ax = sns.heatmap(cost_per_student, xticklabels=caps, yticklabels=caps, center=0)\n",
    "ax.invert_yaxis()\n",
    "plt.title(\"2 School Chaining Improvement - Total Cost per Student\")\n",
    "plt.xlabel('School 2 True Capacity')\n",
    "plt.ylabel('School 1 True Capacity')"
   ]
  },
  {
   "cell_type": "code",
   "execution_count": 67,
   "id": "299bb5cf",
   "metadata": {},
   "outputs": [
    {
     "data": {
      "text/plain": [
       "Text(30.5, 0.5, 'School 1 True Capacity')"
      ]
     },
     "execution_count": 67,
     "metadata": {},
     "output_type": "execute_result"
    },
    {
     "data": {
      "image/png": "[encoded data removed]",
      "text/plain": [
       "<Figure size 432x288 with 2 Axes>"
      ]
     },
     "metadata": {},
     "output_type": "display_data"
    }
   ],
   "source": [
    "ax = sns.heatmap(underfill_per_seat, xticklabels=caps, yticklabels=caps, center=0)\n",
    "ax.invert_yaxis()\n",
    "plt.title(\"2 School Chaining Improvement - Underfill per Seat\")\n",
    "plt.xlabel('School 2 True Capacity')\n",
    "plt.ylabel('School 1 True Capacity')"
   ]
  },
  {
   "cell_type": "markdown",
   "id": "8edcd85b",
   "metadata": {},
   "source": []
  },
  {
   "cell_type": "markdown",
   "id": "44888f6b",
   "metadata": {},
   "source": [
    "# Grid Search for Optimal Costs"
   ]
  },
  {
   "cell_type": "code",
   "execution_count": 7,
   "id": "903e3d71",
   "metadata": {},
   "outputs": [],
   "source": [
    "from itertools import product"
   ]
  },
  {
   "cell_type": "code",
   "execution_count": 17,
   "id": "3e37bb71",
   "metadata": {},
   "outputs": [],
   "source": [
    "co = 10\n",
    "cu = 1\n",
    "iters=1000\n",
    "p = 0.15\n",
    "true_caps = np.array([40]*5)\n",
    "\n",
    "\n",
    "cs = CostSimulator(co, cu, iters, p, true_caps)\n",
    "int_lengths = true_caps*p/(1-p)\n",
    "possible_caps = [np.arange(true_caps[i], true_caps[i]+int_lengths[i]+1) for i in range(len(true_caps))]\n",
    "min_cost = np.inf\n",
    "best_capacities = None\n",
    "for caps in product(*possible_caps):\n",
    "    inf_caps = np.array(caps).astype(int)\n",
    "    cs.simulate_multi_school_costs(inf_caps)\n",
    "    cost = cs.evaluation_metrics(inf_caps)['total_cost']\n",
    "    if cost < min_cost:\n",
    "        min_cost = cost \n",
    "        best_capacities = inf_caps"
   ]
  },
  {
   "cell_type": "code",
   "execution_count": 18,
   "id": "3c1f046b",
   "metadata": {},
   "outputs": [
    {
     "data": {
      "text/plain": [
       "array([44, 47, 47, 47, 45])"
      ]
     },
     "execution_count": 18,
     "metadata": {},
     "output_type": "execute_result"
    }
   ],
   "source": [
    "best_capacities"
   ]
  },
  {
   "cell_type": "code",
   "execution_count": 19,
   "id": "48441647",
   "metadata": {},
   "outputs": [
    {
     "data": {
      "text/plain": [
       "{'total_cost': 31.873,\n",
       " 'school_costs': array([4.146, 5.305, 6.62 , 7.473, 8.329]),\n",
       " 'school_overage_costs': array([1.39, 0.72, 0.95, 0.78, 0.61]),\n",
       " 'school_underage_costs': array([2.756, 4.585, 5.67 , 6.693, 7.719]),\n",
       " 'avg_underfill/movers': 7.74,\n",
       " 'raw_inflation': array([4, 5, 6, 6, 6]),\n",
       " 'pct_inflation': array([0.1  , 0.125, 0.15 , 0.15 , 0.15 ])}"
      ]
     },
     "execution_count": 19,
     "metadata": {},
     "output_type": "execute_result"
    }
   ],
   "source": [
    "cs.inf_strategy = 'chain'\n",
    "cs.simulate()"
   ]
  },
  {
   "cell_type": "code",
   "execution_count": 20,
   "id": "1f2b3691",
   "metadata": {},
   "outputs": [
    {
     "data": {
      "text/plain": [
       "{'total_cost': 41.239999999999995,\n",
       " 'school_costs': array([ 3.939,  5.64 ,  7.955, 10.535, 13.171]),\n",
       " 'school_overage_costs': array([1.16, 0.25, 0.06, 0.01, 0.02]),\n",
       " 'school_underage_costs': array([ 2.779,  5.39 ,  7.895, 10.525, 13.151]),\n",
       " 'avg_underfill/movers': 13.154,\n",
       " 'raw_inflation': array([4, 4, 4, 4, 4]),\n",
       " 'pct_inflation': array([0.1, 0.1, 0.1, 0.1, 0.1])}"
      ]
     },
     "execution_count": 20,
     "metadata": {},
     "output_type": "execute_result"
    }
   ],
   "source": [
    "cs.inf_strategy = 'independent'\n",
    "cs.simulate()"
   ]
  },
  {
   "cell_type": "code",
   "execution_count": null,
   "id": "d2924d0f",
   "metadata": {},
   "outputs": [],
   "source": []
  }
 ],
 "metadata": {
  "kernelspec": {
   "display_name": "Python 3 (ipykernel)",
   "language": "python",
   "name": "python3"
  },
  "language_info": {
   "codemirror_mode": {
    "name": "ipython",
    "version": 3
   },
   "file_extension": ".py",
   "mimetype": "text/x-python",
   "name": "python",
   "nbconvert_exporter": "python",
   "pygments_lexer": "ipython3",
   "version": "3.7.9"
  }
 },
 "nbformat": 4,
 "nbformat_minor": 5
}
