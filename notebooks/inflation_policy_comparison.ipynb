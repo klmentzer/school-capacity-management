{
 "cells": [
  {
   "cell_type": "code",
   "execution_count": 2,
   "id": "2be3fffb",
   "metadata": {},
   "outputs": [],
   "source": [
    "%load_ext autoreload\n",
    "%autoreload 2\n",
    "import numpy as np\n",
    "import sys\n",
    "sys.path.append('..')\n",
    "from capacity_management.src.cost_simulation import CostSimulator\n",
    "from capacity_management.src.optimal_policy_grid_search import grid_search_optimal_caps\n",
    "from capacity_management.src.greedy_set_capacity import greedy_set_capacity"
   ]
  },
  {
   "cell_type": "code",
   "execution_count": 3,
   "id": "3893e52e",
   "metadata": {},
   "outputs": [],
   "source": [
    "co = 10\n",
    "cu = 1\n",
    "iters=1000\n",
    "p = 0.15\n",
    "true_caps = np.array([100]*4)"
   ]
  },
  {
   "cell_type": "markdown",
   "id": "9f67f715",
   "metadata": {},
   "source": [
    "### Optimal"
   ]
  },
  {
   "cell_type": "code",
   "execution_count": 28,
   "id": "7edd0f54",
   "metadata": {},
   "outputs": [
    {
     "data": {
      "text/plain": [
       "(array([112, 116, 117, 115]), 34.946)"
      ]
     },
     "execution_count": 28,
     "metadata": {},
     "output_type": "execute_result"
    }
   ],
   "source": [
    "np.random.seed(0)\n",
    "grid_search_optimal_caps(co, cu, iters, p, true_caps)"
   ]
  },
  {
   "cell_type": "markdown",
   "id": "1466441f",
   "metadata": {},
   "source": [
    "### Chain"
   ]
  },
  {
   "cell_type": "code",
   "execution_count": 29,
   "id": "4089c96f",
   "metadata": {},
   "outputs": [
    {
     "data": {
      "text/plain": [
       "(array([112, 115, 116, 116]), 37.834)"
      ]
     },
     "execution_count": 29,
     "metadata": {},
     "output_type": "execute_result"
    }
   ],
   "source": [
    "np.random.seed(0)\n",
    "cs = CostSimulator(co, cu, iters, p, true_caps, inf_strategy='chain')\n",
    "metrics = cs.simulate()\n",
    "(metrics[\"raw_inflation\"]+true_caps, metrics[\"total_cost\"])"
   ]
  },
  {
   "cell_type": "markdown",
   "id": "7a5c9c04",
   "metadata": {},
   "source": [
    "### Independent"
   ]
  },
  {
   "cell_type": "code",
   "execution_count": 30,
   "id": "ba8b85ef",
   "metadata": {},
   "outputs": [
    {
     "data": {
      "text/plain": [
       "(array([112, 112, 112, 112]), 51.117)"
      ]
     },
     "execution_count": 30,
     "metadata": {},
     "output_type": "execute_result"
    }
   ],
   "source": [
    "np.random.seed(0)\n",
    "cs = CostSimulator(co, cu, iters, p, true_caps, inf_strategy='independent')\n",
    "metrics = cs.simulate()\n",
    "(metrics[\"raw_inflation\"]+true_caps, metrics[\"total_cost\"])"
   ]
  },
  {
   "cell_type": "markdown",
   "id": "3ef4a361",
   "metadata": {},
   "source": [
    "### Greedy"
   ]
  },
  {
   "cell_type": "code",
   "execution_count": 4,
   "id": "8f40d750",
   "metadata": {},
   "outputs": [
    {
     "data": {
      "text/plain": [
       "(array([114, 117, 114, 103]), 46.578)"
      ]
     },
     "execution_count": 4,
     "metadata": {},
     "output_type": "execute_result"
    }
   ],
   "source": [
    "np.random.seed(0)\n",
    "cs = CostSimulator(co, cu, iters, p, true_caps)\n",
    "greedy_set_capacity(cs)"
   ]
  },
  {
   "cell_type": "code",
   "execution_count": null,
   "id": "b97eb726",
   "metadata": {},
   "outputs": [],
   "source": []
  }
 ],
 "metadata": {
  "kernelspec": {
   "display_name": "Python 3 (ipykernel)",
   "language": "python",
   "name": "python3"
  },
  "language_info": {
   "codemirror_mode": {
    "name": "ipython",
    "version": 3
   },
   "file_extension": ".py",
   "mimetype": "text/x-python",
   "name": "python",
   "nbconvert_exporter": "python",
   "pygments_lexer": "ipython3",
   "version": "3.7.9"
  }
 },
 "nbformat": 4,
 "nbformat_minor": 5
}
