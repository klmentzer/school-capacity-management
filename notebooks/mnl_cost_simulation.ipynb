{
 "cells": [
  {
   "cell_type": "code",
   "execution_count": 66,
   "id": "9e076428",
   "metadata": {},
   "outputs": [
    {
     "name": "stdout",
     "output_type": "stream",
     "text": [
      "The autoreload extension is already loaded. To reload it, use:\n",
      "  %reload_ext autoreload\n"
     ]
    }
   ],
   "source": [
    "%load_ext autoreload\n",
    "%autoreload 2\n",
    "import numpy as np\n",
    "import sys\n",
    "sys.path.append('..')\n",
    "from capacity_management.src.mnl_cost_simulation import MNLCostSimulator"
   ]
  },
  {
   "cell_type": "code",
   "execution_count": 69,
   "id": "6e7e0aba",
   "metadata": {},
   "outputs": [],
   "source": [
    "mnl = MNLCostSimulator(10, 1, 1, .15, np.array(3*[44]), 'mnl', np.array([15,8,1]))"
   ]
  },
  {
   "cell_type": "code",
   "execution_count": 70,
   "id": "57d691d3",
   "metadata": {},
   "outputs": [
    {
     "data": {
      "text/plain": [
       "array([[1.00000000e+00, 9.11050438e-04, 1.66078405e-06],\n",
       "       [0.00000000e+00, 1.00000000e+00, 9.11881965e-04],\n",
       "       [0.00000000e+00, 0.00000000e+00, 1.00000000e+00]])"
      ]
     },
     "execution_count": 70,
     "metadata": {},
     "output_type": "execute_result"
    }
   ],
   "source": [
    "mnl.mnl_coeff"
   ]
  },
  {
   "cell_type": "code",
   "execution_count": 105,
   "id": "25b53d2d",
   "metadata": {},
   "outputs": [
    {
     "name": "stdout",
     "output_type": "stream",
     "text": [
      "[11  7  3]\n",
      "[0.76506995 0.48714813 0.2982458 ]\n",
      "[0.67168986 0.35798394 0.03804468]\n"
     ]
    },
    {
     "data": {
      "text/plain": [
       "{'total_cost': 1.4,\n",
       " 'school_costs': array([0. , 0. , 1.4]),\n",
       " 'school_overage_costs': array([0., 0., 0.]),\n",
       " 'school_underage_costs': array([0. , 0. , 1.4]),\n",
       " 'avg_underfill/movers': 0.4666666666666666,\n",
       " 'raw_inflation': array([4, 2, 2]),\n",
       " 'pct_inflation': array([0.09090909, 0.04545455, 0.04545455]),\n",
       " 'movers': array([ 4. ,  8.2, 12.3]),\n",
       " 'dropout': None}"
      ]
     },
     "execution_count": 105,
     "metadata": {},
     "output_type": "execute_result"
    }
   ],
   "source": [
    "mus = np.arange(11,0,-4)#np.array([100,80,60,40,20])\n",
    "print(mus)\n",
    "np.random.seed(0)\n",
    "mnl = MNLCostSimulator(10, 1, 10, .15, np.array(3*[44]), 'mnl',mus)\n",
    "mnl.simulate()"
   ]
  },
  {
   "cell_type": "code",
   "execution_count": 100,
   "id": "56f7bfd8",
   "metadata": {},
   "outputs": [
    {
     "ename": "IndexError",
     "evalue": "index 3 is out of bounds for axis 0 with size 3",
     "output_type": "error",
     "traceback": [
      "\u001b[0;31m---------------------------------------------------------------------------\u001b[0m",
      "\u001b[0;31mIndexError\u001b[0m                                Traceback (most recent call last)",
      "\u001b[0;32m/var/folders/sm/3fwnfv0s4dz92rkrtnq8vcbr0000gn/T/ipykernel_51308/2206316313.py\u001b[0m in \u001b[0;36m<module>\u001b[0;34m\u001b[0m\n\u001b[1;32m      1\u001b[0m \u001b[0mmnl\u001b[0m \u001b[0;34m=\u001b[0m \u001b[0mMNLCostSimulator\u001b[0m\u001b[0;34m(\u001b[0m\u001b[0;36m10\u001b[0m\u001b[0;34m,\u001b[0m \u001b[0;36m1\u001b[0m\u001b[0;34m,\u001b[0m \u001b[0;36m1\u001b[0m\u001b[0;34m,\u001b[0m \u001b[0;36m.15\u001b[0m\u001b[0;34m,\u001b[0m \u001b[0mnp\u001b[0m\u001b[0;34m.\u001b[0m\u001b[0marray\u001b[0m\u001b[0;34m(\u001b[0m\u001b[0;36m3\u001b[0m\u001b[0;34m*\u001b[0m\u001b[0;34m[\u001b[0m\u001b[0;36m44\u001b[0m\u001b[0;34m]\u001b[0m\u001b[0;34m)\u001b[0m\u001b[0;34m,\u001b[0m \u001b[0;34m'independent'\u001b[0m\u001b[0;34m,\u001b[0m \u001b[0mnp\u001b[0m\u001b[0;34m.\u001b[0m\u001b[0marray\u001b[0m\u001b[0;34m(\u001b[0m\u001b[0;34m[\u001b[0m\u001b[0;36m15\u001b[0m\u001b[0;34m,\u001b[0m\u001b[0;36m8\u001b[0m\u001b[0;34m,\u001b[0m\u001b[0;36m1\u001b[0m\u001b[0;34m]\u001b[0m\u001b[0;34m)\u001b[0m\u001b[0;34m)\u001b[0m\u001b[0;34m\u001b[0m\u001b[0;34m\u001b[0m\u001b[0m\n\u001b[0;32m----> 2\u001b[0;31m \u001b[0mmnl\u001b[0m\u001b[0;34m.\u001b[0m\u001b[0msimulate\u001b[0m\u001b[0;34m(\u001b[0m\u001b[0;34m)\u001b[0m\u001b[0;34m\u001b[0m\u001b[0;34m\u001b[0m\u001b[0m\n\u001b[0m",
      "\u001b[0;32m~/code/school-capacity-management/capacity_management/src/mnl_cost_simulation.py\u001b[0m in \u001b[0;36msimulate\u001b[0;34m(self, inf_strategy)\u001b[0m\n\u001b[1;32m     83\u001b[0m             \u001b[0mpreferences\u001b[0m \u001b[0;34m=\u001b[0m \u001b[0mself\u001b[0m\u001b[0;34m.\u001b[0m\u001b[0mmnl\u001b[0m\u001b[0;34m.\u001b[0m\u001b[0msample_preference_ordering\u001b[0m\u001b[0;34m(\u001b[0m\u001b[0;34m)\u001b[0m\u001b[0;34m\u001b[0m\u001b[0;34m\u001b[0m\u001b[0m\n\u001b[1;32m     84\u001b[0m             \u001b[0mpriorities\u001b[0m \u001b[0;34m=\u001b[0m \u001b[0mnp\u001b[0m\u001b[0;34m.\u001b[0m\u001b[0mtile\u001b[0m\u001b[0;34m(\u001b[0m\u001b[0mnp\u001b[0m\u001b[0;34m.\u001b[0m\u001b[0mrandom\u001b[0m\u001b[0;34m.\u001b[0m\u001b[0muniform\u001b[0m\u001b[0;34m(\u001b[0m\u001b[0msize\u001b[0m\u001b[0;34m=\u001b[0m\u001b[0mself\u001b[0m\u001b[0;34m.\u001b[0m\u001b[0mnum_students\u001b[0m\u001b[0;34m)\u001b[0m\u001b[0;34m,\u001b[0m \u001b[0;34m(\u001b[0m\u001b[0mself\u001b[0m\u001b[0;34m.\u001b[0m\u001b[0mnum_schools\u001b[0m\u001b[0;34m,\u001b[0m \u001b[0;36m1\u001b[0m\u001b[0;34m)\u001b[0m\u001b[0;34m)\u001b[0m\u001b[0;34m\u001b[0m\u001b[0;34m\u001b[0m\u001b[0m\n\u001b[0;32m---> 85\u001b[0;31m             \u001b[0mr1\u001b[0m\u001b[0;34m,\u001b[0m \u001b[0mr2\u001b[0m \u001b[0;34m=\u001b[0m \u001b[0mrun_2_round_assignment\u001b[0m\u001b[0;34m(\u001b[0m\u001b[0mpreferences\u001b[0m\u001b[0;34m,\u001b[0m \u001b[0mpriorities\u001b[0m\u001b[0;34m,\u001b[0m \u001b[0minf_caps\u001b[0m\u001b[0;34m,\u001b[0m \u001b[0mself\u001b[0m\u001b[0;34m.\u001b[0m\u001b[0mprob\u001b[0m\u001b[0;34m,\u001b[0m \u001b[0mr2_capacities\u001b[0m\u001b[0;34m=\u001b[0m\u001b[0mself\u001b[0m\u001b[0;34m.\u001b[0m\u001b[0mtrue_caps\u001b[0m\u001b[0;34m,\u001b[0m \u001b[0mreturn_r1_assignment\u001b[0m\u001b[0;34m=\u001b[0m\u001b[0;32mTrue\u001b[0m\u001b[0;34m)\u001b[0m\u001b[0;34m\u001b[0m\u001b[0;34m\u001b[0m\u001b[0m\n\u001b[0m\u001b[1;32m     86\u001b[0m \u001b[0;34m\u001b[0m\u001b[0m\n\u001b[1;32m     87\u001b[0m             \u001b[0mnum_assigned\u001b[0m \u001b[0;34m=\u001b[0m \u001b[0mnp\u001b[0m\u001b[0;34m.\u001b[0m\u001b[0mzeros\u001b[0m\u001b[0;34m(\u001b[0m\u001b[0mself\u001b[0m\u001b[0;34m.\u001b[0m\u001b[0mnum_schools\u001b[0m\u001b[0;34m)\u001b[0m\u001b[0;34m\u001b[0m\u001b[0;34m\u001b[0m\u001b[0m\n",
      "\u001b[0;32m~/code/school-capacity-management/capacity_management/src/two_round_simulation.py\u001b[0m in \u001b[0;36mrun_2_round_assignment\u001b[0;34m(preferences, priorities, r1_capacities, p, r2_capacities, return_r1_assignment)\u001b[0m\n\u001b[1;32m     88\u001b[0m \u001b[0;34m\u001b[0m\u001b[0m\n\u001b[1;32m     89\u001b[0m     \u001b[0mda\u001b[0m \u001b[0;34m=\u001b[0m \u001b[0mDeferredAcceptance\u001b[0m\u001b[0;34m(\u001b[0m\u001b[0mpreferences\u001b[0m\u001b[0;34m,\u001b[0m \u001b[0mpriorities\u001b[0m\u001b[0;34m,\u001b[0m \u001b[0mr1_capacities\u001b[0m\u001b[0;34m.\u001b[0m\u001b[0mastype\u001b[0m\u001b[0;34m(\u001b[0m\u001b[0mint\u001b[0m\u001b[0;34m)\u001b[0m\u001b[0;34m)\u001b[0m\u001b[0;34m\u001b[0m\u001b[0;34m\u001b[0m\u001b[0m\n\u001b[0;32m---> 90\u001b[0;31m     \u001b[0mrnd1_assignment\u001b[0m \u001b[0;34m=\u001b[0m \u001b[0mda\u001b[0m\u001b[0;34m.\u001b[0m\u001b[0mda\u001b[0m\u001b[0;34m(\u001b[0m\u001b[0;34m)\u001b[0m\u001b[0;34m\u001b[0m\u001b[0;34m\u001b[0m\u001b[0m\n\u001b[0m\u001b[1;32m     91\u001b[0m \u001b[0;34m\u001b[0m\u001b[0m\n\u001b[1;32m     92\u001b[0m     \u001b[0mafter_dropout\u001b[0m\u001b[0;34m,\u001b[0m \u001b[0mleaving\u001b[0m \u001b[0;34m=\u001b[0m \u001b[0msimulate_dropout\u001b[0m\u001b[0;34m(\u001b[0m\u001b[0mrnd1_assignment\u001b[0m\u001b[0;34m,\u001b[0m \u001b[0mp\u001b[0m\u001b[0;34m)\u001b[0m\u001b[0;34m\u001b[0m\u001b[0;34m\u001b[0m\u001b[0m\n",
      "\u001b[0;32m~/code/school-capacity-management/capacity_management/src/da.py\u001b[0m in \u001b[0;36mda\u001b[0;34m(self)\u001b[0m\n\u001b[1;32m     59\u001b[0m \u001b[0;34m\u001b[0m\u001b[0m\n\u001b[1;32m     60\u001b[0m                 ordered_priority_index = self._get_priority_ordering(\n\u001b[0;32m---> 61\u001b[0;31m                     \u001b[0msch\u001b[0m\u001b[0;34m,\u001b[0m \u001b[0msch_applicants\u001b[0m\u001b[0;34m\u001b[0m\u001b[0;34m\u001b[0m\u001b[0m\n\u001b[0m\u001b[1;32m     62\u001b[0m                 )\n\u001b[1;32m     63\u001b[0m \u001b[0;34m\u001b[0m\u001b[0m\n",
      "\u001b[0;32m~/code/school-capacity-management/capacity_management/src/da.py\u001b[0m in \u001b[0;36m_get_priority_ordering\u001b[0;34m(self, sch, sch_applicants)\u001b[0m\n\u001b[1;32m    106\u001b[0m         \u001b[0;34m:\u001b[0m\u001b[0;32mreturn\u001b[0m\u001b[0;34m:\u001b[0m \u001b[0ma\u001b[0m \u001b[0msorted\u001b[0m \u001b[0marray\u001b[0m \u001b[0mof\u001b[0m \u001b[0mstudents\u001b[0m \u001b[0mcontaining\u001b[0m \u001b[0mthe\u001b[0m \u001b[0mhighest\u001b[0m \u001b[0mpriority\u001b[0m \u001b[0mstudent\u001b[0m \u001b[0mat\u001b[0m \u001b[0mindex\u001b[0m \u001b[0;36m0.\u001b[0m\u001b[0;34m\u001b[0m\u001b[0;34m\u001b[0m\u001b[0m\n\u001b[1;32m    107\u001b[0m         \"\"\"\n\u001b[0;32m--> 108\u001b[0;31m         \u001b[0mapplicant_priorities\u001b[0m \u001b[0;34m=\u001b[0m \u001b[0mself\u001b[0m\u001b[0;34m.\u001b[0m\u001b[0mpriorities\u001b[0m\u001b[0;34m[\u001b[0m\u001b[0msch_applicants\u001b[0m\u001b[0;34m,\u001b[0m \u001b[0msch\u001b[0m\u001b[0;34m]\u001b[0m\u001b[0;34m\u001b[0m\u001b[0;34m\u001b[0m\u001b[0m\n\u001b[0m\u001b[1;32m    109\u001b[0m         \u001b[0mordered_priority_index\u001b[0m \u001b[0;34m=\u001b[0m \u001b[0mnp\u001b[0m\u001b[0;34m.\u001b[0m\u001b[0margsort\u001b[0m\u001b[0;34m(\u001b[0m\u001b[0mapplicant_priorities\u001b[0m\u001b[0;34m)\u001b[0m\u001b[0;34m[\u001b[0m\u001b[0;34m:\u001b[0m\u001b[0;34m:\u001b[0m\u001b[0;34m-\u001b[0m\u001b[0;36m1\u001b[0m\u001b[0;34m]\u001b[0m\u001b[0;34m\u001b[0m\u001b[0;34m\u001b[0m\u001b[0m\n\u001b[1;32m    110\u001b[0m         \u001b[0;32mreturn\u001b[0m \u001b[0mordered_priority_index\u001b[0m\u001b[0;34m\u001b[0m\u001b[0;34m\u001b[0m\u001b[0m\n",
      "\u001b[0;31mIndexError\u001b[0m: index 3 is out of bounds for axis 0 with size 3"
     ]
    }
   ],
   "source": [
    "mnl = MNLCostSimulator(10, 1, 1, .15, np.array(3*[44]), 'independent', np.array([15,8,1]))\n",
    "mnl.simulate()"
   ]
  },
  {
   "cell_type": "code",
   "execution_count": null,
   "id": "be791006",
   "metadata": {},
   "outputs": [],
   "source": []
  }
 ],
 "metadata": {
  "kernelspec": {
   "display_name": "Python 3 (ipykernel)",
   "language": "python",
   "name": "python3"
  },
  "language_info": {
   "codemirror_mode": {
    "name": "ipython",
    "version": 3
   },
   "file_extension": ".py",
   "mimetype": "text/x-python",
   "name": "python",
   "nbconvert_exporter": "python",
   "pygments_lexer": "ipython3",
   "version": "3.7.9"
  }
 },
 "nbformat": 4,
 "nbformat_minor": 5
}
