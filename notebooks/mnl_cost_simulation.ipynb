{
 "cells": [
  {
   "cell_type": "code",
   "execution_count": 2,
   "id": "9e076428",
   "metadata": {},
   "outputs": [
    {
     "name": "stdout",
     "output_type": "stream",
     "text": [
      "The autoreload extension is already loaded. To reload it, use:\n",
      "  %reload_ext autoreload\n"
     ]
    }
   ],
   "source": [
    "%load_ext autoreload\n",
    "%autoreload 2\n",
    "import numpy as np\n",
    "import sys\n",
    "sys.path.append('..')\n",
    "from capacity_management.src.mnl_cost_simulation import MNLCostSimulator"
   ]
  },
  {
   "cell_type": "code",
   "execution_count": 3,
   "id": "6e7e0aba",
   "metadata": {},
   "outputs": [],
   "source": [
    "mnl = MNLCostSimulator(10, 1, 1, .15, np.array(3*[44]), 'mnl', np.array([15,8,1]))"
   ]
  },
  {
   "cell_type": "code",
   "execution_count": 4,
   "id": "57d691d3",
   "metadata": {},
   "outputs": [
    {
     "data": {
      "text/plain": [
       "array([[1.00000000e+00, 9.11050438e-04, 1.66078405e-06],\n",
       "       [0.00000000e+00, 1.00000000e+00, 9.11881965e-04],\n",
       "       [0.00000000e+00, 0.00000000e+00, 1.00000000e+00]])"
      ]
     },
     "execution_count": 4,
     "metadata": {},
     "output_type": "execute_result"
    }
   ],
   "source": [
    "mnl.mnl_coeff"
   ]
  },
  {
   "cell_type": "code",
   "execution_count": 8,
   "id": "25b53d2d",
   "metadata": {},
   "outputs": [
    {
     "name": "stdout",
     "output_type": "stream",
     "text": [
      "[11  7  3]\n"
     ]
    },
    {
     "data": {
      "text/plain": [
       "{'total_cost': 26.700000000000003,\n",
       " 'school_costs': array([ 4.2,  8.3, 14.2]),\n",
       " 'school_overage_costs': array([1., 0., 0.]),\n",
       " 'school_underage_costs': array([ 3.2,  8.3, 14.2]),\n",
       " 'avg_underfill/movers': 0.5333333333333333,\n",
       " 'raw_inflation': array([4, 2, 2]),\n",
       " 'pct_inflation': array([0.09090909, 0.04545455, 0.04545455]),\n",
       " 'movers': array([ 3.2,  8.3, 12.6]),\n",
       " 'dropout': None,\n",
       " 'true_underage': array([0. , 0. , 1.6])}"
      ]
     },
     "execution_count": 8,
     "metadata": {},
     "output_type": "execute_result"
    }
   ],
   "source": [
    "mus = np.arange(11,0,-4)#np.array([100,80,60,40,20])\n",
    "print(mus)\n",
    "np.random.seed(0)\n",
    "mnl = MNLCostSimulator(10, 1, 10, .15, np.array(3*[44]), 'mnl',mus)\n",
    "mnl.simulate()"
   ]
  },
  {
   "cell_type": "code",
   "execution_count": 10,
   "id": "56f7bfd8",
   "metadata": {},
   "outputs": [
    {
     "data": {
      "text/plain": [
       "{'total_cost': 27.3,\n",
       " 'school_costs': array([ 6.5,  8.8, 12. ]),\n",
       " 'school_overage_costs': array([2., 1., 0.]),\n",
       " 'school_underage_costs': array([ 4.5,  7.8, 12. ]),\n",
       " 'avg_underfill/movers': 0.7666666666666667,\n",
       " 'raw_inflation': array([4, 4, 4]),\n",
       " 'pct_inflation': array([0.09090909, 0.09090909, 0.09090909]),\n",
       " 'movers': array([4.5, 7.8, 9.7]),\n",
       " 'dropout': None,\n",
       " 'true_underage': array([0. , 0. , 2.3])}"
      ]
     },
     "execution_count": 10,
     "metadata": {},
     "output_type": "execute_result"
    }
   ],
   "source": [
    "mnl = MNLCostSimulator(10, 1, 10, .15, np.array(3*[44]), 'independent', np.array([15,8,1]))\n",
    "mnl.simulate()"
   ]
  },
  {
   "cell_type": "code",
   "execution_count": null,
   "id": "be791006",
   "metadata": {},
   "outputs": [],
   "source": []
  }
 ],
 "metadata": {
  "kernelspec": {
   "display_name": "Python 3 (ipykernel)",
   "language": "python",
   "name": "python3"
  },
  "language_info": {
   "codemirror_mode": {
    "name": "ipython",
    "version": 3
   },
   "file_extension": ".py",
   "mimetype": "text/x-python",
   "name": "python",
   "nbconvert_exporter": "python",
   "pygments_lexer": "ipython3",
   "version": "3.7.9"
  }
 },
 "nbformat": 4,
 "nbformat_minor": 5
}
